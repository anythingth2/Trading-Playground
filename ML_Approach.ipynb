{
 "cells": [
  {
   "cell_type": "code",
   "execution_count": 3,
   "metadata": {
    "ExecuteTime": {
     "end_time": "2020-12-06T17:44:35.989701Z",
     "start_time": "2020-12-06T17:44:35.986150Z"
    }
   },
   "outputs": [],
   "source": [
    "import numpy as np\n",
    "import matplotlib.pyplot as plt\n",
    "import pandas as pd\n",
    "import mplfinance as mpf\n",
    "import yfinance\n",
    "import ta\n"
   ]
  },
  {
   "cell_type": "code",
   "execution_count": 4,
   "metadata": {
    "ExecuteTime": {
     "end_time": "2020-12-06T17:44:37.383203Z",
     "start_time": "2020-12-06T17:44:36.329045Z"
    }
   },
   "outputs": [],
   "source": [
    "eur_df = yfinance.Ticker('EURUSD=X').history(period='5y')[['Open', 'High', 'Low', 'Close']]\n",
    "jpy_df = yfinance.Ticker('JPYUSD=X').history(period='5y')[['Open', 'High', 'Low', 'Close']]\n",
    "gbp_df = yfinance.Ticker('GBPUSD=X').history(period='5y')[['Open', 'High', 'Low', 'Close']]\n",
    "cny_df = yfinance.Ticker('CNYUSD=X').history(period='5y')[['Open', 'High', 'Low', 'Close']]"
   ]
  },
  {
   "cell_type": "code",
   "execution_count": 5,
   "metadata": {
    "ExecuteTime": {
     "end_time": "2020-12-06T17:44:37.696467Z",
     "start_time": "2020-12-06T17:44:37.680859Z"
    }
   },
   "outputs": [
    {
     "data": {
      "text/html": [
       "<div>\n",
       "<style scoped>\n",
       "    .dataframe tbody tr th:only-of-type {\n",
       "        vertical-align: middle;\n",
       "    }\n",
       "\n",
       "    .dataframe tbody tr th {\n",
       "        vertical-align: top;\n",
       "    }\n",
       "\n",
       "    .dataframe thead th {\n",
       "        text-align: right;\n",
       "    }\n",
       "</style>\n",
       "<table border=\"1\" class=\"dataframe\">\n",
       "  <thead>\n",
       "    <tr style=\"text-align: right;\">\n",
       "      <th></th>\n",
       "      <th>Open</th>\n",
       "      <th>High</th>\n",
       "      <th>Low</th>\n",
       "      <th>Close</th>\n",
       "      <th>return</th>\n",
       "    </tr>\n",
       "    <tr>\n",
       "      <th>Date</th>\n",
       "      <th></th>\n",
       "      <th></th>\n",
       "      <th></th>\n",
       "      <th></th>\n",
       "      <th></th>\n",
       "    </tr>\n",
       "  </thead>\n",
       "  <tbody>\n",
       "    <tr>\n",
       "      <th>2015-12-07</th>\n",
       "      <td>1.088305</td>\n",
       "      <td>1.088305</td>\n",
       "      <td>1.079800</td>\n",
       "      <td>1.088400</td>\n",
       "      <td>-0.005000</td>\n",
       "    </tr>\n",
       "    <tr>\n",
       "      <th>2015-12-08</th>\n",
       "      <td>1.083600</td>\n",
       "      <td>1.090000</td>\n",
       "      <td>1.083142</td>\n",
       "      <td>1.083400</td>\n",
       "      <td>0.005996</td>\n",
       "    </tr>\n",
       "    <tr>\n",
       "      <th>2015-12-09</th>\n",
       "      <td>1.089503</td>\n",
       "      <td>1.099000</td>\n",
       "      <td>1.088198</td>\n",
       "      <td>1.089396</td>\n",
       "      <td>0.012399</td>\n",
       "    </tr>\n",
       "    <tr>\n",
       "      <th>2015-12-10</th>\n",
       "      <td>1.101698</td>\n",
       "      <td>1.102305</td>\n",
       "      <td>1.092799</td>\n",
       "      <td>1.101795</td>\n",
       "      <td>-0.006984</td>\n",
       "    </tr>\n",
       "    <tr>\n",
       "      <th>2015-12-11</th>\n",
       "      <td>1.094799</td>\n",
       "      <td>1.103000</td>\n",
       "      <td>1.092801</td>\n",
       "      <td>1.094811</td>\n",
       "      <td>0.003584</td>\n",
       "    </tr>\n",
       "    <tr>\n",
       "      <th>...</th>\n",
       "      <td>...</td>\n",
       "      <td>...</td>\n",
       "      <td>...</td>\n",
       "      <td>...</td>\n",
       "      <td>...</td>\n",
       "    </tr>\n",
       "    <tr>\n",
       "      <th>2020-12-01</th>\n",
       "      <td>1.193773</td>\n",
       "      <td>1.205357</td>\n",
       "      <td>1.193599</td>\n",
       "      <td>1.193816</td>\n",
       "      <td>0.013622</td>\n",
       "    </tr>\n",
       "    <tr>\n",
       "      <th>2020-12-02</th>\n",
       "      <td>1.206986</td>\n",
       "      <td>1.210742</td>\n",
       "      <td>1.204079</td>\n",
       "      <td>1.207438</td>\n",
       "      <td>0.004022</td>\n",
       "    </tr>\n",
       "    <tr>\n",
       "      <th>2020-12-03</th>\n",
       "      <td>1.211343</td>\n",
       "      <td>1.217500</td>\n",
       "      <td>1.210243</td>\n",
       "      <td>1.211460</td>\n",
       "      <td>0.003105</td>\n",
       "    </tr>\n",
       "    <tr>\n",
       "      <th>2020-12-04</th>\n",
       "      <td>1.214535</td>\n",
       "      <td>1.217775</td>\n",
       "      <td>1.213371</td>\n",
       "      <td>1.214565</td>\n",
       "      <td>0.001240</td>\n",
       "    </tr>\n",
       "    <tr>\n",
       "      <th>2020-12-07</th>\n",
       "      <td>1.212562</td>\n",
       "      <td>1.215806</td>\n",
       "      <td>1.208313</td>\n",
       "      <td>1.215806</td>\n",
       "      <td>NaN</td>\n",
       "    </tr>\n",
       "  </tbody>\n",
       "</table>\n",
       "<p>1303 rows × 5 columns</p>\n",
       "</div>"
      ],
      "text/plain": [
       "                Open      High       Low     Close    return\n",
       "Date                                                        \n",
       "2015-12-07  1.088305  1.088305  1.079800  1.088400 -0.005000\n",
       "2015-12-08  1.083600  1.090000  1.083142  1.083400  0.005996\n",
       "2015-12-09  1.089503  1.099000  1.088198  1.089396  0.012399\n",
       "2015-12-10  1.101698  1.102305  1.092799  1.101795 -0.006984\n",
       "2015-12-11  1.094799  1.103000  1.092801  1.094811  0.003584\n",
       "...              ...       ...       ...       ...       ...\n",
       "2020-12-01  1.193773  1.205357  1.193599  1.193816  0.013622\n",
       "2020-12-02  1.206986  1.210742  1.204079  1.207438  0.004022\n",
       "2020-12-03  1.211343  1.217500  1.210243  1.211460  0.003105\n",
       "2020-12-04  1.214535  1.217775  1.213371  1.214565  0.001240\n",
       "2020-12-07  1.212562  1.215806  1.208313  1.215806       NaN\n",
       "\n",
       "[1303 rows x 5 columns]"
      ]
     },
     "execution_count": 5,
     "metadata": {},
     "output_type": "execute_result"
    }
   ],
   "source": [
    "df = eur_df.copy()\n",
    "df = df.ffill()\n",
    "df['return'] = df['Close'].shift(-1) - df['Close']\n",
    "df"
   ]
  },
  {
   "cell_type": "code",
   "execution_count": 6,
   "metadata": {
    "ExecuteTime": {
     "end_time": "2020-12-06T17:44:38.272221Z",
     "start_time": "2020-12-06T17:44:37.994267Z"
    }
   },
   "outputs": [
    {
     "data": {
      "text/plain": [
       "<matplotlib.axes._subplots.AxesSubplot at 0x1ebe0ee8040>"
      ]
     },
     "execution_count": 6,
     "metadata": {},
     "output_type": "execute_result"
    },
    {
     "data": {
      "image/png": "[encoded data removed]",
      "text/plain": [
       "<Figure size 432x288 with 1 Axes>"
      ]
     },
     "metadata": {
      "needs_background": "light"
     },
     "output_type": "display_data"
    }
   ],
   "source": [
    "df.loc['2020-01-01':].plot(y='Close')"
   ]
  },
  {
   "cell_type": "code",
   "execution_count": 7,
   "metadata": {
    "ExecuteTime": {
     "end_time": "2020-12-06T17:44:39.071233Z",
     "start_time": "2020-12-06T17:44:39.056655Z"
    }
   },
   "outputs": [
    {
     "data": {
      "text/html": [
       "<div>\n",
       "<style scoped>\n",
       "    .dataframe tbody tr th:only-of-type {\n",
       "        vertical-align: middle;\n",
       "    }\n",
       "\n",
       "    .dataframe tbody tr th {\n",
       "        vertical-align: top;\n",
       "    }\n",
       "\n",
       "    .dataframe thead th {\n",
       "        text-align: right;\n",
       "    }\n",
       "</style>\n",
       "<table border=\"1\" class=\"dataframe\">\n",
       "  <thead>\n",
       "    <tr style=\"text-align: right;\">\n",
       "      <th></th>\n",
       "      <th>Open</th>\n",
       "      <th>High</th>\n",
       "      <th>Low</th>\n",
       "      <th>Close</th>\n",
       "      <th>return</th>\n",
       "      <th>next_close</th>\n",
       "    </tr>\n",
       "    <tr>\n",
       "      <th>Date</th>\n",
       "      <th></th>\n",
       "      <th></th>\n",
       "      <th></th>\n",
       "      <th></th>\n",
       "      <th></th>\n",
       "      <th></th>\n",
       "    </tr>\n",
       "  </thead>\n",
       "  <tbody>\n",
       "    <tr>\n",
       "      <th>2020-12-01</th>\n",
       "      <td>1.193773</td>\n",
       "      <td>1.205357</td>\n",
       "      <td>1.193599</td>\n",
       "      <td>1.193816</td>\n",
       "      <td>0.013622</td>\n",
       "      <td>1.207438</td>\n",
       "    </tr>\n",
       "    <tr>\n",
       "      <th>2020-12-02</th>\n",
       "      <td>1.206986</td>\n",
       "      <td>1.210742</td>\n",
       "      <td>1.204079</td>\n",
       "      <td>1.207438</td>\n",
       "      <td>0.004022</td>\n",
       "      <td>1.211460</td>\n",
       "    </tr>\n",
       "    <tr>\n",
       "      <th>2020-12-03</th>\n",
       "      <td>1.211343</td>\n",
       "      <td>1.217500</td>\n",
       "      <td>1.210243</td>\n",
       "      <td>1.211460</td>\n",
       "      <td>0.003105</td>\n",
       "      <td>1.214565</td>\n",
       "    </tr>\n",
       "    <tr>\n",
       "      <th>2020-12-04</th>\n",
       "      <td>1.214535</td>\n",
       "      <td>1.217775</td>\n",
       "      <td>1.213371</td>\n",
       "      <td>1.214565</td>\n",
       "      <td>0.001240</td>\n",
       "      <td>1.215806</td>\n",
       "    </tr>\n",
       "    <tr>\n",
       "      <th>2020-12-07</th>\n",
       "      <td>1.212562</td>\n",
       "      <td>1.215806</td>\n",
       "      <td>1.208313</td>\n",
       "      <td>1.215806</td>\n",
       "      <td>NaN</td>\n",
       "      <td>NaN</td>\n",
       "    </tr>\n",
       "  </tbody>\n",
       "</table>\n",
       "</div>"
      ],
      "text/plain": [
       "                Open      High       Low     Close    return  next_close\n",
       "Date                                                                    \n",
       "2020-12-01  1.193773  1.205357  1.193599  1.193816  0.013622    1.207438\n",
       "2020-12-02  1.206986  1.210742  1.204079  1.207438  0.004022    1.211460\n",
       "2020-12-03  1.211343  1.217500  1.210243  1.211460  0.003105    1.214565\n",
       "2020-12-04  1.214535  1.217775  1.213371  1.214565  0.001240    1.215806\n",
       "2020-12-07  1.212562  1.215806  1.208313  1.215806       NaN         NaN"
      ]
     },
     "execution_count": 7,
     "metadata": {},
     "output_type": "execute_result"
    }
   ],
   "source": [
    "df['next_close'] = df['Close'].shift(-1)\n",
    "df.tail()"
   ]
  },
  {
   "cell_type": "code",
   "execution_count": 8,
   "metadata": {
    "ExecuteTime": {
     "end_time": "2020-12-06T17:44:39.423768Z",
     "start_time": "2020-12-06T17:44:39.419042Z"
    }
   },
   "outputs": [],
   "source": [
    "df.dropna(inplace=True)"
   ]
  },
  {
   "cell_type": "code",
   "execution_count": 9,
   "metadata": {
    "ExecuteTime": {
     "end_time": "2020-12-06T17:44:39.739931Z",
     "start_time": "2020-12-06T17:44:39.731730Z"
    }
   },
   "outputs": [],
   "source": [
    "train_df = df.loc[: '2020-04-01']\n",
    "test_df = df.loc['2020-04-01':]\n",
    "\n",
    "X_train = train_df[['Open', 'High', 'Low', 'Close']]\n",
    "Y_train = train_df['next_close']\n",
    "\n",
    "X_test = test_df[['Open', 'High', 'Low', 'Close']]\n",
    "Y_test = test_df['next_close']"
   ]
  },
  {
   "cell_type": "code",
   "execution_count": 10,
   "metadata": {
    "ExecuteTime": {
     "end_time": "2020-12-06T17:44:40.023799Z",
     "start_time": "2020-12-06T17:44:40.021503Z"
    }
   },
   "outputs": [],
   "source": [
    "from sklearn.linear_model import LinearRegression"
   ]
  },
  {
   "cell_type": "code",
   "execution_count": 11,
   "metadata": {
    "ExecuteTime": {
     "end_time": "2020-12-06T17:44:40.312238Z",
     "start_time": "2020-12-06T17:44:40.306124Z"
    }
   },
   "outputs": [
    {
     "data": {
      "text/plain": [
       "LinearRegression()"
      ]
     },
     "execution_count": 11,
     "metadata": {},
     "output_type": "execute_result"
    }
   ],
   "source": [
    "linear_regressor = LinearRegression()\n",
    "linear_regressor.fit(X_train, Y_train)"
   ]
  },
  {
   "cell_type": "code",
   "execution_count": 12,
   "metadata": {
    "ExecuteTime": {
     "end_time": "2020-12-06T17:44:40.596459Z",
     "start_time": "2020-12-06T17:44:40.591468Z"
    }
   },
   "outputs": [
    {
     "data": {
      "text/plain": [
       "Open    -0.592375\n",
       "High     0.758472\n",
       "Low      0.839012\n",
       "Close   -0.008884\n",
       "dtype: float64"
      ]
     },
     "execution_count": 12,
     "metadata": {},
     "output_type": "execute_result"
    }
   ],
   "source": [
    "pd.Series(linear_regressor.coef_, index=['Open', 'High', 'Low', 'Close'])"
   ]
  },
  {
   "cell_type": "code",
   "execution_count": 13,
   "metadata": {
    "ExecuteTime": {
     "end_time": "2020-12-06T17:44:40.898579Z",
     "start_time": "2020-12-06T17:44:40.892677Z"
    }
   },
   "outputs": [
    {
     "name": "stderr",
     "output_type": "stream",
     "text": [
      "<ipython-input-13-f2e54105d0f9>:1: SettingWithCopyWarning: \n",
      "A value is trying to be set on a copy of a slice from a DataFrame.\n",
      "Try using .loc[row_indexer,col_indexer] = value instead\n",
      "\n",
      "See the caveats in the documentation: https://pandas.pydata.org/pandas-docs/stable/user_guide/indexing.html#returning-a-view-versus-a-copy\n",
      "  test_df['prediction'] = linear_regressor.predict(X_test)\n"
     ]
    }
   ],
   "source": [
    "test_df['prediction'] = linear_regressor.predict(X_test)"
   ]
  },
  {
   "cell_type": "code",
   "execution_count": 14,
   "metadata": {
    "ExecuteTime": {
     "end_time": "2020-12-06T17:44:41.487796Z",
     "start_time": "2020-12-06T17:44:41.176668Z"
    }
   },
   "outputs": [
    {
     "data": {
      "text/plain": [
       "<matplotlib.axes._subplots.AxesSubplot at 0x1ebe301d0d0>"
      ]
     },
     "execution_count": 14,
     "metadata": {},
     "output_type": "execute_result"
    },
    {
     "data": {
      "image/png": "[encoded data removed]",
      "text/plain": [
       "<Figure size 1152x576 with 1 Axes>"
      ]
     },
     "metadata": {
      "needs_background": "light"
     },
     "output_type": "display_data"
    }
   ],
   "source": [
    "test_df.plot(y=['next_close', 'prediction'], figsize=(16, 8))"
   ]
  },
  {
   "cell_type": "code",
   "execution_count": 15,
   "metadata": {
    "ExecuteTime": {
     "end_time": "2020-12-06T17:44:41.785703Z",
     "start_time": "2020-12-06T17:44:41.773563Z"
    }
   },
   "outputs": [
    {
     "data": {
      "text/html": [
       "<div>\n",
       "<style scoped>\n",
       "    .dataframe tbody tr th:only-of-type {\n",
       "        vertical-align: middle;\n",
       "    }\n",
       "\n",
       "    .dataframe tbody tr th {\n",
       "        vertical-align: top;\n",
       "    }\n",
       "\n",
       "    .dataframe thead th {\n",
       "        text-align: right;\n",
       "    }\n",
       "</style>\n",
       "<table border=\"1\" class=\"dataframe\">\n",
       "  <thead>\n",
       "    <tr style=\"text-align: right;\">\n",
       "      <th></th>\n",
       "      <th>Open</th>\n",
       "      <th>High</th>\n",
       "      <th>Low</th>\n",
       "      <th>Close</th>\n",
       "      <th>return</th>\n",
       "      <th>next_close</th>\n",
       "      <th>prediction</th>\n",
       "    </tr>\n",
       "    <tr>\n",
       "      <th>Date</th>\n",
       "      <th></th>\n",
       "      <th></th>\n",
       "      <th></th>\n",
       "      <th></th>\n",
       "      <th></th>\n",
       "      <th></th>\n",
       "      <th></th>\n",
       "    </tr>\n",
       "  </thead>\n",
       "  <tbody>\n",
       "    <tr>\n",
       "      <th>2020-04-01</th>\n",
       "      <td>1.102816</td>\n",
       "      <td>1.103753</td>\n",
       "      <td>1.091870</td>\n",
       "      <td>1.102657</td>\n",
       "      <td>-0.007295</td>\n",
       "      <td>1.095362</td>\n",
       "      <td>1.094775</td>\n",
       "    </tr>\n",
       "    <tr>\n",
       "      <th>2020-04-02</th>\n",
       "      <td>1.095098</td>\n",
       "      <td>1.096299</td>\n",
       "      <td>1.084434</td>\n",
       "      <td>1.095362</td>\n",
       "      <td>-0.010622</td>\n",
       "      <td>1.084740</td>\n",
       "      <td>1.087519</td>\n",
       "    </tr>\n",
       "    <tr>\n",
       "      <th>2020-04-03</th>\n",
       "      <td>1.084387</td>\n",
       "      <td>1.085894</td>\n",
       "      <td>1.077620</td>\n",
       "      <td>1.084740</td>\n",
       "      <td>-0.004044</td>\n",
       "      <td>1.080696</td>\n",
       "      <td>1.080350</td>\n",
       "    </tr>\n",
       "    <tr>\n",
       "      <th>2020-04-06</th>\n",
       "      <td>1.080824</td>\n",
       "      <td>1.083435</td>\n",
       "      <td>1.076925</td>\n",
       "      <td>1.080696</td>\n",
       "      <td>-0.000315</td>\n",
       "      <td>1.080380</td>\n",
       "      <td>1.080048</td>\n",
       "    </tr>\n",
       "    <tr>\n",
       "      <th>2020-04-07</th>\n",
       "      <td>1.080194</td>\n",
       "      <td>1.092335</td>\n",
       "      <td>1.079140</td>\n",
       "      <td>1.080380</td>\n",
       "      <td>0.009134</td>\n",
       "      <td>1.089514</td>\n",
       "      <td>1.089033</td>\n",
       "    </tr>\n",
       "    <tr>\n",
       "      <th>...</th>\n",
       "      <td>...</td>\n",
       "      <td>...</td>\n",
       "      <td>...</td>\n",
       "      <td>...</td>\n",
       "      <td>...</td>\n",
       "      <td>...</td>\n",
       "      <td>...</td>\n",
       "    </tr>\n",
       "    <tr>\n",
       "      <th>2020-11-30</th>\n",
       "      <td>1.197074</td>\n",
       "      <td>1.200206</td>\n",
       "      <td>1.194415</td>\n",
       "      <td>1.197146</td>\n",
       "      <td>-0.003330</td>\n",
       "      <td>1.193816</td>\n",
       "      <td>1.197293</td>\n",
       "    </tr>\n",
       "    <tr>\n",
       "      <th>2020-12-01</th>\n",
       "      <td>1.193773</td>\n",
       "      <td>1.205357</td>\n",
       "      <td>1.193599</td>\n",
       "      <td>1.193816</td>\n",
       "      <td>0.013622</td>\n",
       "      <td>1.207438</td>\n",
       "      <td>1.202500</td>\n",
       "    </tr>\n",
       "    <tr>\n",
       "      <th>2020-12-02</th>\n",
       "      <td>1.206986</td>\n",
       "      <td>1.210742</td>\n",
       "      <td>1.204079</td>\n",
       "      <td>1.207438</td>\n",
       "      <td>0.004022</td>\n",
       "      <td>1.211460</td>\n",
       "      <td>1.207429</td>\n",
       "    </tr>\n",
       "    <tr>\n",
       "      <th>2020-12-03</th>\n",
       "      <td>1.211343</td>\n",
       "      <td>1.217500</td>\n",
       "      <td>1.210243</td>\n",
       "      <td>1.211460</td>\n",
       "      <td>0.003105</td>\n",
       "      <td>1.214565</td>\n",
       "      <td>1.215111</td>\n",
       "    </tr>\n",
       "    <tr>\n",
       "      <th>2020-12-04</th>\n",
       "      <td>1.214535</td>\n",
       "      <td>1.217775</td>\n",
       "      <td>1.213371</td>\n",
       "      <td>1.214565</td>\n",
       "      <td>0.001240</td>\n",
       "      <td>1.215806</td>\n",
       "      <td>1.216024</td>\n",
       "    </tr>\n",
       "  </tbody>\n",
       "</table>\n",
       "<p>178 rows × 7 columns</p>\n",
       "</div>"
      ],
      "text/plain": [
       "                Open      High       Low     Close    return  next_close  \\\n",
       "Date                                                                       \n",
       "2020-04-01  1.102816  1.103753  1.091870  1.102657 -0.007295    1.095362   \n",
       "2020-04-02  1.095098  1.096299  1.084434  1.095362 -0.010622    1.084740   \n",
       "2020-04-03  1.084387  1.085894  1.077620  1.084740 -0.004044    1.080696   \n",
       "2020-04-06  1.080824  1.083435  1.076925  1.080696 -0.000315    1.080380   \n",
       "2020-04-07  1.080194  1.092335  1.079140  1.080380  0.009134    1.089514   \n",
       "...              ...       ...       ...       ...       ...         ...   \n",
       "2020-11-30  1.197074  1.200206  1.194415  1.197146 -0.003330    1.193816   \n",
       "2020-12-01  1.193773  1.205357  1.193599  1.193816  0.013622    1.207438   \n",
       "2020-12-02  1.206986  1.210742  1.204079  1.207438  0.004022    1.211460   \n",
       "2020-12-03  1.211343  1.217500  1.210243  1.211460  0.003105    1.214565   \n",
       "2020-12-04  1.214535  1.217775  1.213371  1.214565  0.001240    1.215806   \n",
       "\n",
       "            prediction  \n",
       "Date                    \n",
       "2020-04-01    1.094775  \n",
       "2020-04-02    1.087519  \n",
       "2020-04-03    1.080350  \n",
       "2020-04-06    1.080048  \n",
       "2020-04-07    1.089033  \n",
       "...                ...  \n",
       "2020-11-30    1.197293  \n",
       "2020-12-01    1.202500  \n",
       "2020-12-02    1.207429  \n",
       "2020-12-03    1.215111  \n",
       "2020-12-04    1.216024  \n",
       "\n",
       "[178 rows x 7 columns]"
      ]
     },
     "execution_count": 15,
     "metadata": {},
     "output_type": "execute_result"
    }
   ],
   "source": [
    "test_df"
   ]
  },
  {
   "cell_type": "code",
   "execution_count": 16,
   "metadata": {},
   "outputs": [],
   "source": [
    "from sklearn.metrics import mean_squared_error, r2_score"
   ]
  },
  {
   "cell_type": "code",
   "execution_count": 19,
   "metadata": {},
   "outputs": [
    {
     "name": "stdout",
     "output_type": "stream",
     "text": [
      "MSE 8.288155310773154e-06\n",
      "R2 0.9948348237977506\n"
     ]
    }
   ],
   "source": [
    "y_label = test_df['next_close']\n",
    "y_pred = test_df['prediction']\n",
    "test_mse = mean_squared_error(y_label, y_pred)\n",
    "test_r2 = r2_score(y_label, y_pred)\n",
    "\n",
    "print('MSE', test_mse)\n",
    "print('R2', test_r2)"
   ]
  },
  {
   "cell_type": "code",
   "execution_count": 14,
   "metadata": {
    "ExecuteTime": {
     "end_time": "2020-12-06T17:44:42.061240Z",
     "start_time": "2020-12-06T17:44:42.057454Z"
    }
   },
   "outputs": [
    {
     "name": "stderr",
     "output_type": "stream",
     "text": [
      "<ipython-input-14-2b765a4bc9ab>:1: SettingWithCopyWarning: \n",
      "A value is trying to be set on a copy of a slice from a DataFrame.\n",
      "Try using .loc[row_indexer,col_indexer] = value instead\n",
      "\n",
      "See the caveats in the documentation: https://pandas.pydata.org/pandas-docs/stable/user_guide/indexing.html#returning-a-view-versus-a-copy\n",
      "  test_df['action'] = test_df['prediction'] > test_df['Close']\n"
     ]
    }
   ],
   "source": [
    "test_df['action'] = test_df['prediction'] > test_df['Close']"
   ]
  },
  {
   "cell_type": "code",
   "execution_count": 15,
   "metadata": {
    "ExecuteTime": {
     "end_time": "2020-12-06T17:44:42.582126Z",
     "start_time": "2020-12-06T17:44:42.333295Z"
    }
   },
   "outputs": [
    {
     "name": "stderr",
     "output_type": "stream",
     "text": [
      "<ipython-input-15-2a26b8700529>:1: SettingWithCopyWarning: \n",
      "A value is trying to be set on a copy of a slice from a DataFrame.\n",
      "Try using .loc[row_indexer,col_indexer] = value instead\n",
      "\n",
      "See the caveats in the documentation: https://pandas.pydata.org/pandas-docs/stable/user_guide/indexing.html#returning-a-view-versus-a-copy\n",
      "  test_df['margin'] = test_df['return']*test_df['action']\n"
     ]
    },
    {
     "data": {
      "text/plain": [
       "<matplotlib.axes._subplots.AxesSubplot at 0x21f28f3a730>"
      ]
     },
     "execution_count": 15,
     "metadata": {},
     "output_type": "execute_result"
    },
    {
     "data": {
      "image/png": "[encoded data removed]",
      "text/plain": [
       "<Figure size 432x288 with 1 Axes>"
      ]
     },
     "metadata": {
      "needs_background": "light"
     },
     "output_type": "display_data"
    }
   ],
   "source": [
    "test_df['margin'] = test_df['return']*test_df['action']\n",
    "test_df.plot(y='margin')\n"
   ]
  },
  {
   "cell_type": "code",
   "execution_count": 16,
   "metadata": {
    "ExecuteTime": {
     "end_time": "2020-12-06T17:47:03.470395Z",
     "start_time": "2020-12-06T17:47:03.208814Z"
    }
   },
   "outputs": [
    {
     "data": {
      "text/plain": [
       "<matplotlib.axes._subplots.AxesSubplot at 0x21f28d0ab20>"
      ]
     },
     "execution_count": 16,
     "metadata": {},
     "output_type": "execute_result"
    },
    {
     "data": {
      "image/png": "[encoded data removed]",
      "text/plain": [
       "<Figure size 432x288 with 1 Axes>"
      ]
     },
     "metadata": {
      "needs_background": "light"
     },
     "output_type": "display_data"
    }
   ],
   "source": [
    "result = test_df[['return', 'margin']]\n",
    "result = result / test_df['Close'].values[0]\n",
    "\n",
    "\n",
    "result.cumsum().plot()"
   ]
  },
  {
   "cell_type": "code",
   "execution_count": 17,
   "metadata": {
    "ExecuteTime": {
     "end_time": "2020-12-06T18:00:17.028639Z",
     "start_time": "2020-12-06T18:00:16.814418Z"
    }
   },
   "outputs": [
    {
     "data": {
      "text/plain": [
       "<matplotlib.axes._subplots.AxesSubplot at 0x21f28d99490>"
      ]
     },
     "execution_count": 17,
     "metadata": {},
     "output_type": "execute_result"
    },
    {
     "data": {
      "image/png": "[encoded data removed]",
      "text/plain": [
       "<Figure size 432x288 with 1 Axes>"
      ]
     },
     "metadata": {
      "needs_background": "light"
     },
     "output_type": "display_data"
    }
   ],
   "source": [
    "result.resample('M', kind='period').sum().plot(kind='bar')"
   ]
  },
  {
   "cell_type": "code",
   "execution_count": null,
   "metadata": {},
   "outputs": [],
   "source": []
  }
 ],
 "metadata": {
  "kernelspec": {
   "display_name": "Python 3",
   "language": "python",
   "name": "python3"
  },
  "language_info": {
   "codemirror_mode": {
    "name": "ipython",
    "version": 3
   },
   "file_extension": ".py",
   "mimetype": "text/x-python",
   "name": "python",
   "nbconvert_exporter": "python",
   "pygments_lexer": "ipython3",
   "version": "3.8.3"
  },
  "varInspector": {
   "cols": {
    "lenName": 16,
    "lenType": 16,
    "lenVar": 40
   },
   "kernels_config": {
    "python": {
     "delete_cmd_postfix": "",
     "delete_cmd_prefix": "del ",
     "library": "var_list.py",
     "varRefreshCmd": "print(var_dic_list())"
    },
    "r": {
     "delete_cmd_postfix": ") ",
     "delete_cmd_prefix": "rm(",
     "library": "var_list.r",
     "varRefreshCmd": "cat(var_dic_list()) "
    }
   },
   "types_to_exclude": [
    "module",
    "function",
    "builtin_function_or_method",
    "instance",
    "_Feature"
   ],
   "window_display": false
  }
 },
 "nbformat": 4,
 "nbformat_minor": 4
}
