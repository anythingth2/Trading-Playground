{
 "cells": [
  {
   "cell_type": "code",
   "execution_count": 1,
   "metadata": {
    "ExecuteTime": {
     "end_time": "2020-12-13T06:43:45.009293Z",
     "start_time": "2020-12-13T06:43:44.309542Z"
    }
   },
   "outputs": [],
   "source": [
    "import numpy as np\n",
    "import matplotlib.pyplot as plt\n",
    "import pandas as pd\n",
    "import mplfinance as mpf\n",
    "import yfinance\n",
    "import ta\n",
    "from datetime import datetime\n",
    "import config\n",
    "import MetaTrader5 as mt5"
   ]
  },
  {
   "cell_type": "markdown",
   "metadata": {},
   "source": [
    "# Initialize MT5"
   ]
  },
  {
   "cell_type": "code",
   "execution_count": 2,
   "metadata": {
    "ExecuteTime": {
     "end_time": "2020-12-13T06:43:45.272311Z",
     "start_time": "2020-12-13T06:43:45.253362Z"
    }
   },
   "outputs": [
    {
     "name": "stdout",
     "output_type": "stream",
     "text": [
      "TerminalInfo(community_account=False, community_connection=False, connected=True, dlls_allowed=False, trade_allowed=False, tradeapi_disabled=False, email_enabled=False, ftp_enabled=False, notifications_enabled=False, mqid=False, build=2715, maxbars=100000, codepage=0, ping_last=199143, community_balance=0.0, retransmission=1.706900755913192, company='MetaQuotes Software Corp.', name='MetaTrader 5', language='English', path='C:\\\\Program Files\\\\MetaTrader 5', data_path='C:\\\\Users\\\\ChiChaChai\\\\AppData\\\\Roaming\\\\MetaQuotes\\\\Terminal\\\\D0E8209F77C8CF37AD8BF550E51FF075', commondata_path='C:\\\\Users\\\\ChiChaChai\\\\AppData\\\\Roaming\\\\MetaQuotes\\\\Terminal\\\\Common')\n",
      "(500, 2715, '26 Nov 2020')\n"
     ]
    }
   ],
   "source": [
    "if not mt5.initialize(config.PATH,\n",
    "                      login=config.USERNAME,\n",
    "                      password=config.PASSWORD,\n",
    "                      server=config.SERVER\n",
    "                      ):\n",
    "    print(\"initialize() failed\")\n",
    "    mt5.shutdown()\n",
    "# request connection status and parameters\n",
    "print(mt5.terminal_info())\n",
    "# get data on MetaTrader 5 version\n",
    "print(mt5.version())"
   ]
  },
  {
   "cell_type": "markdown",
   "metadata": {},
   "source": [
    "# Import data"
   ]
  },
  {
   "cell_type": "code",
   "execution_count": 3,
   "metadata": {
    "ExecuteTime": {
     "end_time": "2020-12-13T06:43:46.216940Z",
     "start_time": "2020-12-13T06:43:46.178046Z"
    }
   },
   "outputs": [
    {
     "data": {
      "text/html": [
       "<div>\n",
       "<style scoped>\n",
       "    .dataframe tbody tr th:only-of-type {\n",
       "        vertical-align: middle;\n",
       "    }\n",
       "\n",
       "    .dataframe tbody tr th {\n",
       "        vertical-align: top;\n",
       "    }\n",
       "\n",
       "    .dataframe thead th {\n",
       "        text-align: right;\n",
       "    }\n",
       "</style>\n",
       "<table border=\"1\" class=\"dataframe\">\n",
       "  <thead>\n",
       "    <tr style=\"text-align: right;\">\n",
       "      <th></th>\n",
       "      <th>open</th>\n",
       "      <th>high</th>\n",
       "      <th>low</th>\n",
       "      <th>close</th>\n",
       "      <th>tick_volume</th>\n",
       "      <th>spread</th>\n",
       "      <th>real_volume</th>\n",
       "    </tr>\n",
       "    <tr>\n",
       "      <th>time</th>\n",
       "      <th></th>\n",
       "      <th></th>\n",
       "      <th></th>\n",
       "      <th></th>\n",
       "      <th></th>\n",
       "      <th></th>\n",
       "      <th></th>\n",
       "    </tr>\n",
       "  </thead>\n",
       "  <tbody>\n",
       "    <tr>\n",
       "      <th>2015-12-01 00:00:00</th>\n",
       "      <td>1064.137</td>\n",
       "      <td>1074.523</td>\n",
       "      <td>1063.163</td>\n",
       "      <td>1069.819</td>\n",
       "      <td>106592</td>\n",
       "      <td>0</td>\n",
       "      <td>0</td>\n",
       "    </tr>\n",
       "    <tr>\n",
       "      <th>2015-12-02 00:00:00</th>\n",
       "      <td>1069.834</td>\n",
       "      <td>1070.488</td>\n",
       "      <td>1050.575</td>\n",
       "      <td>1054.043</td>\n",
       "      <td>116264</td>\n",
       "      <td>0</td>\n",
       "      <td>0</td>\n",
       "    </tr>\n",
       "    <tr>\n",
       "      <th>2015-12-03 00:00:00</th>\n",
       "      <td>1054.023</td>\n",
       "      <td>1065.340</td>\n",
       "      <td>1046.247</td>\n",
       "      <td>1063.126</td>\n",
       "      <td>163845</td>\n",
       "      <td>0</td>\n",
       "      <td>0</td>\n",
       "    </tr>\n",
       "    <tr>\n",
       "      <th>2015-12-04 00:00:00</th>\n",
       "      <td>1063.168</td>\n",
       "      <td>1088.690</td>\n",
       "      <td>1058.079</td>\n",
       "      <td>1086.763</td>\n",
       "      <td>138720</td>\n",
       "      <td>0</td>\n",
       "      <td>0</td>\n",
       "    </tr>\n",
       "    <tr>\n",
       "      <th>2015-12-06 00:00:00</th>\n",
       "      <td>1086.192</td>\n",
       "      <td>1086.192</td>\n",
       "      <td>1082.615</td>\n",
       "      <td>1083.073</td>\n",
       "      <td>3746</td>\n",
       "      <td>0</td>\n",
       "      <td>0</td>\n",
       "    </tr>\n",
       "    <tr>\n",
       "      <th>...</th>\n",
       "      <td>...</td>\n",
       "      <td>...</td>\n",
       "      <td>...</td>\n",
       "      <td>...</td>\n",
       "      <td>...</td>\n",
       "      <td>...</td>\n",
       "      <td>...</td>\n",
       "    </tr>\n",
       "    <tr>\n",
       "      <th>2020-12-11 17:00:00</th>\n",
       "      <td>1842.336</td>\n",
       "      <td>1843.237</td>\n",
       "      <td>1841.874</td>\n",
       "      <td>1841.874</td>\n",
       "      <td>3073</td>\n",
       "      <td>300</td>\n",
       "      <td>0</td>\n",
       "    </tr>\n",
       "    <tr>\n",
       "      <th>2020-12-11 18:00:00</th>\n",
       "      <td>1841.874</td>\n",
       "      <td>1842.489</td>\n",
       "      <td>1838.626</td>\n",
       "      <td>1840.605</td>\n",
       "      <td>3140</td>\n",
       "      <td>300</td>\n",
       "      <td>0</td>\n",
       "    </tr>\n",
       "    <tr>\n",
       "      <th>2020-12-11 19:00:00</th>\n",
       "      <td>1840.592</td>\n",
       "      <td>1840.897</td>\n",
       "      <td>1838.348</td>\n",
       "      <td>1838.712</td>\n",
       "      <td>3090</td>\n",
       "      <td>300</td>\n",
       "      <td>0</td>\n",
       "    </tr>\n",
       "    <tr>\n",
       "      <th>2020-12-11 20:00:00</th>\n",
       "      <td>1838.666</td>\n",
       "      <td>1839.482</td>\n",
       "      <td>1837.790</td>\n",
       "      <td>1839.222</td>\n",
       "      <td>2815</td>\n",
       "      <td>300</td>\n",
       "      <td>0</td>\n",
       "    </tr>\n",
       "    <tr>\n",
       "      <th>2020-12-11 21:00:00</th>\n",
       "      <td>1839.167</td>\n",
       "      <td>1840.068</td>\n",
       "      <td>1838.419</td>\n",
       "      <td>1839.550</td>\n",
       "      <td>646</td>\n",
       "      <td>300</td>\n",
       "      <td>0</td>\n",
       "    </tr>\n",
       "  </tbody>\n",
       "</table>\n",
       "<p>22654 rows × 7 columns</p>\n",
       "</div>"
      ],
      "text/plain": [
       "                         open      high       low     close  tick_volume  \\\n",
       "time                                                                       \n",
       "2015-12-01 00:00:00  1064.137  1074.523  1063.163  1069.819       106592   \n",
       "2015-12-02 00:00:00  1069.834  1070.488  1050.575  1054.043       116264   \n",
       "2015-12-03 00:00:00  1054.023  1065.340  1046.247  1063.126       163845   \n",
       "2015-12-04 00:00:00  1063.168  1088.690  1058.079  1086.763       138720   \n",
       "2015-12-06 00:00:00  1086.192  1086.192  1082.615  1083.073         3746   \n",
       "...                       ...       ...       ...       ...          ...   \n",
       "2020-12-11 17:00:00  1842.336  1843.237  1841.874  1841.874         3073   \n",
       "2020-12-11 18:00:00  1841.874  1842.489  1838.626  1840.605         3140   \n",
       "2020-12-11 19:00:00  1840.592  1840.897  1838.348  1838.712         3090   \n",
       "2020-12-11 20:00:00  1838.666  1839.482  1837.790  1839.222         2815   \n",
       "2020-12-11 21:00:00  1839.167  1840.068  1838.419  1839.550          646   \n",
       "\n",
       "                     spread  real_volume  \n",
       "time                                      \n",
       "2015-12-01 00:00:00       0            0  \n",
       "2015-12-02 00:00:00       0            0  \n",
       "2015-12-03 00:00:00       0            0  \n",
       "2015-12-04 00:00:00       0            0  \n",
       "2015-12-06 00:00:00       0            0  \n",
       "...                     ...          ...  \n",
       "2020-12-11 17:00:00     300            0  \n",
       "2020-12-11 18:00:00     300            0  \n",
       "2020-12-11 19:00:00     300            0  \n",
       "2020-12-11 20:00:00     300            0  \n",
       "2020-12-11 21:00:00     300            0  \n",
       "\n",
       "[22654 rows x 7 columns]"
      ]
     },
     "execution_count": 3,
     "metadata": {},
     "output_type": "execute_result"
    }
   ],
   "source": [
    "eur_df = pd.DataFrame(mt5.copy_rates_range(\"XAUUSDm\", mt5.TIMEFRAME_H1, datetime(2015, 12, 1), datetime.now()))\n",
    "eur_df['time'] = pd.to_datetime(eur_df['time'], unit='s')\n",
    "eur_df.set_index('time', inplace=True)\n",
    "eur_df"
   ]
  },
  {
   "cell_type": "markdown",
   "metadata": {},
   "source": [
    "# Pre-processing"
   ]
  },
  {
   "cell_type": "markdown",
   "metadata": {},
   "source": [
    "## Define target"
   ]
  },
  {
   "cell_type": "code",
   "execution_count": 4,
   "metadata": {
    "ExecuteTime": {
     "end_time": "2020-12-13T06:43:47.459617Z",
     "start_time": "2020-12-13T06:43:47.447649Z"
    }
   },
   "outputs": [],
   "source": [
    "df = eur_df.copy()\n",
    "df = df.ffill()\n",
    "df['return'] = df['close'].shift(-1) - df['close']"
   ]
  },
  {
   "cell_type": "code",
   "execution_count": 5,
   "metadata": {
    "ExecuteTime": {
     "end_time": "2020-12-13T06:43:47.832622Z",
     "start_time": "2020-12-13T06:43:47.648112Z"
    }
   },
   "outputs": [
    {
     "data": {
      "text/plain": [
       "<matplotlib.axes._subplots.AxesSubplot at 0x1b75e5d7d90>"
      ]
     },
     "execution_count": 5,
     "metadata": {},
     "output_type": "execute_result"
    },
    {
     "data": {
      "image/png": "[encoded data removed]",
      "text/plain": [
       "<Figure size 432x288 with 1 Axes>"
      ]
     },
     "metadata": {
      "needs_background": "light"
     },
     "output_type": "display_data"
    }
   ],
   "source": [
    "df.loc['2020-01-01':].plot(y='close')"
   ]
  },
  {
   "cell_type": "code",
   "execution_count": 6,
   "metadata": {
    "ExecuteTime": {
     "end_time": "2020-12-13T06:43:47.890465Z",
     "start_time": "2020-12-13T06:43:47.871522Z"
    }
   },
   "outputs": [
    {
     "data": {
      "text/html": [
       "<div>\n",
       "<style scoped>\n",
       "    .dataframe tbody tr th:only-of-type {\n",
       "        vertical-align: middle;\n",
       "    }\n",
       "\n",
       "    .dataframe tbody tr th {\n",
       "        vertical-align: top;\n",
       "    }\n",
       "\n",
       "    .dataframe thead th {\n",
       "        text-align: right;\n",
       "    }\n",
       "</style>\n",
       "<table border=\"1\" class=\"dataframe\">\n",
       "  <thead>\n",
       "    <tr style=\"text-align: right;\">\n",
       "      <th></th>\n",
       "      <th>open</th>\n",
       "      <th>high</th>\n",
       "      <th>low</th>\n",
       "      <th>close</th>\n",
       "      <th>tick_volume</th>\n",
       "      <th>spread</th>\n",
       "      <th>real_volume</th>\n",
       "      <th>return</th>\n",
       "      <th>next_close</th>\n",
       "    </tr>\n",
       "    <tr>\n",
       "      <th>time</th>\n",
       "      <th></th>\n",
       "      <th></th>\n",
       "      <th></th>\n",
       "      <th></th>\n",
       "      <th></th>\n",
       "      <th></th>\n",
       "      <th></th>\n",
       "      <th></th>\n",
       "      <th></th>\n",
       "    </tr>\n",
       "  </thead>\n",
       "  <tbody>\n",
       "    <tr>\n",
       "      <th>2020-12-11 02:00:00</th>\n",
       "      <td>1840.088</td>\n",
       "      <td>1840.610</td>\n",
       "      <td>1836.744</td>\n",
       "      <td>1838.275</td>\n",
       "      <td>2763</td>\n",
       "      <td>300</td>\n",
       "      <td>0</td>\n",
       "      <td>-1.108</td>\n",
       "      <td>1837.167</td>\n",
       "    </tr>\n",
       "    <tr>\n",
       "      <th>2020-12-11 03:00:00</th>\n",
       "      <td>1838.266</td>\n",
       "      <td>1838.437</td>\n",
       "      <td>1834.705</td>\n",
       "      <td>1837.167</td>\n",
       "      <td>2482</td>\n",
       "      <td>300</td>\n",
       "      <td>0</td>\n",
       "      <td>0.328</td>\n",
       "      <td>1837.495</td>\n",
       "    </tr>\n",
       "    <tr>\n",
       "      <th>2020-12-11 04:00:00</th>\n",
       "      <td>1837.152</td>\n",
       "      <td>1838.077</td>\n",
       "      <td>1836.289</td>\n",
       "      <td>1837.495</td>\n",
       "      <td>1423</td>\n",
       "      <td>300</td>\n",
       "      <td>0</td>\n",
       "      <td>-2.829</td>\n",
       "      <td>1834.666</td>\n",
       "    </tr>\n",
       "    <tr>\n",
       "      <th>2020-12-11 05:00:00</th>\n",
       "      <td>1837.495</td>\n",
       "      <td>1838.520</td>\n",
       "      <td>1834.219</td>\n",
       "      <td>1834.666</td>\n",
       "      <td>2138</td>\n",
       "      <td>300</td>\n",
       "      <td>0</td>\n",
       "      <td>0.020</td>\n",
       "      <td>1834.686</td>\n",
       "    </tr>\n",
       "    <tr>\n",
       "      <th>2020-12-11 06:00:00</th>\n",
       "      <td>1834.666</td>\n",
       "      <td>1837.193</td>\n",
       "      <td>1833.369</td>\n",
       "      <td>1834.686</td>\n",
       "      <td>2681</td>\n",
       "      <td>300</td>\n",
       "      <td>0</td>\n",
       "      <td>-0.755</td>\n",
       "      <td>1833.931</td>\n",
       "    </tr>\n",
       "    <tr>\n",
       "      <th>2020-12-11 07:00:00</th>\n",
       "      <td>1834.711</td>\n",
       "      <td>1836.772</td>\n",
       "      <td>1832.621</td>\n",
       "      <td>1833.931</td>\n",
       "      <td>2907</td>\n",
       "      <td>300</td>\n",
       "      <td>0</td>\n",
       "      <td>-2.103</td>\n",
       "      <td>1831.828</td>\n",
       "    </tr>\n",
       "    <tr>\n",
       "      <th>2020-12-11 08:00:00</th>\n",
       "      <td>1833.977</td>\n",
       "      <td>1836.905</td>\n",
       "      <td>1831.510</td>\n",
       "      <td>1831.828</td>\n",
       "      <td>3857</td>\n",
       "      <td>300</td>\n",
       "      <td>0</td>\n",
       "      <td>5.092</td>\n",
       "      <td>1836.920</td>\n",
       "    </tr>\n",
       "    <tr>\n",
       "      <th>2020-12-11 09:00:00</th>\n",
       "      <td>1831.871</td>\n",
       "      <td>1837.584</td>\n",
       "      <td>1831.467</td>\n",
       "      <td>1836.920</td>\n",
       "      <td>4428</td>\n",
       "      <td>300</td>\n",
       "      <td>0</td>\n",
       "      <td>-4.927</td>\n",
       "      <td>1831.993</td>\n",
       "    </tr>\n",
       "    <tr>\n",
       "      <th>2020-12-11 10:00:00</th>\n",
       "      <td>1836.889</td>\n",
       "      <td>1839.519</td>\n",
       "      <td>1831.632</td>\n",
       "      <td>1831.993</td>\n",
       "      <td>4081</td>\n",
       "      <td>300</td>\n",
       "      <td>0</td>\n",
       "      <td>0.975</td>\n",
       "      <td>1832.968</td>\n",
       "    </tr>\n",
       "    <tr>\n",
       "      <th>2020-12-11 11:00:00</th>\n",
       "      <td>1831.946</td>\n",
       "      <td>1833.604</td>\n",
       "      <td>1823.887</td>\n",
       "      <td>1832.968</td>\n",
       "      <td>5501</td>\n",
       "      <td>300</td>\n",
       "      <td>0</td>\n",
       "      <td>1.655</td>\n",
       "      <td>1834.623</td>\n",
       "    </tr>\n",
       "    <tr>\n",
       "      <th>2020-12-11 12:00:00</th>\n",
       "      <td>1832.922</td>\n",
       "      <td>1835.289</td>\n",
       "      <td>1830.667</td>\n",
       "      <td>1834.623</td>\n",
       "      <td>4170</td>\n",
       "      <td>300</td>\n",
       "      <td>0</td>\n",
       "      <td>5.283</td>\n",
       "      <td>1839.906</td>\n",
       "    </tr>\n",
       "    <tr>\n",
       "      <th>2020-12-11 13:00:00</th>\n",
       "      <td>1834.557</td>\n",
       "      <td>1840.938</td>\n",
       "      <td>1831.690</td>\n",
       "      <td>1839.906</td>\n",
       "      <td>5611</td>\n",
       "      <td>300</td>\n",
       "      <td>0</td>\n",
       "      <td>1.390</td>\n",
       "      <td>1841.296</td>\n",
       "    </tr>\n",
       "    <tr>\n",
       "      <th>2020-12-11 14:00:00</th>\n",
       "      <td>1839.854</td>\n",
       "      <td>1842.501</td>\n",
       "      <td>1834.780</td>\n",
       "      <td>1841.296</td>\n",
       "      <td>5663</td>\n",
       "      <td>300</td>\n",
       "      <td>0</td>\n",
       "      <td>3.182</td>\n",
       "      <td>1844.478</td>\n",
       "    </tr>\n",
       "    <tr>\n",
       "      <th>2020-12-11 15:00:00</th>\n",
       "      <td>1841.251</td>\n",
       "      <td>1847.615</td>\n",
       "      <td>1838.997</td>\n",
       "      <td>1844.478</td>\n",
       "      <td>6028</td>\n",
       "      <td>300</td>\n",
       "      <td>0</td>\n",
       "      <td>-2.131</td>\n",
       "      <td>1842.347</td>\n",
       "    </tr>\n",
       "    <tr>\n",
       "      <th>2020-12-11 16:00:00</th>\n",
       "      <td>1844.478</td>\n",
       "      <td>1846.618</td>\n",
       "      <td>1841.472</td>\n",
       "      <td>1842.347</td>\n",
       "      <td>4019</td>\n",
       "      <td>300</td>\n",
       "      <td>0</td>\n",
       "      <td>-0.473</td>\n",
       "      <td>1841.874</td>\n",
       "    </tr>\n",
       "    <tr>\n",
       "      <th>2020-12-11 17:00:00</th>\n",
       "      <td>1842.336</td>\n",
       "      <td>1843.237</td>\n",
       "      <td>1841.874</td>\n",
       "      <td>1841.874</td>\n",
       "      <td>3073</td>\n",
       "      <td>300</td>\n",
       "      <td>0</td>\n",
       "      <td>-1.269</td>\n",
       "      <td>1840.605</td>\n",
       "    </tr>\n",
       "    <tr>\n",
       "      <th>2020-12-11 18:00:00</th>\n",
       "      <td>1841.874</td>\n",
       "      <td>1842.489</td>\n",
       "      <td>1838.626</td>\n",
       "      <td>1840.605</td>\n",
       "      <td>3140</td>\n",
       "      <td>300</td>\n",
       "      <td>0</td>\n",
       "      <td>-1.893</td>\n",
       "      <td>1838.712</td>\n",
       "    </tr>\n",
       "    <tr>\n",
       "      <th>2020-12-11 19:00:00</th>\n",
       "      <td>1840.592</td>\n",
       "      <td>1840.897</td>\n",
       "      <td>1838.348</td>\n",
       "      <td>1838.712</td>\n",
       "      <td>3090</td>\n",
       "      <td>300</td>\n",
       "      <td>0</td>\n",
       "      <td>0.510</td>\n",
       "      <td>1839.222</td>\n",
       "    </tr>\n",
       "    <tr>\n",
       "      <th>2020-12-11 20:00:00</th>\n",
       "      <td>1838.666</td>\n",
       "      <td>1839.482</td>\n",
       "      <td>1837.790</td>\n",
       "      <td>1839.222</td>\n",
       "      <td>2815</td>\n",
       "      <td>300</td>\n",
       "      <td>0</td>\n",
       "      <td>0.328</td>\n",
       "      <td>1839.550</td>\n",
       "    </tr>\n",
       "    <tr>\n",
       "      <th>2020-12-11 21:00:00</th>\n",
       "      <td>1839.167</td>\n",
       "      <td>1840.068</td>\n",
       "      <td>1838.419</td>\n",
       "      <td>1839.550</td>\n",
       "      <td>646</td>\n",
       "      <td>300</td>\n",
       "      <td>0</td>\n",
       "      <td>NaN</td>\n",
       "      <td>NaN</td>\n",
       "    </tr>\n",
       "  </tbody>\n",
       "</table>\n",
       "</div>"
      ],
      "text/plain": [
       "                         open      high       low     close  tick_volume  \\\n",
       "time                                                                       \n",
       "2020-12-11 02:00:00  1840.088  1840.610  1836.744  1838.275         2763   \n",
       "2020-12-11 03:00:00  1838.266  1838.437  1834.705  1837.167         2482   \n",
       "2020-12-11 04:00:00  1837.152  1838.077  1836.289  1837.495         1423   \n",
       "2020-12-11 05:00:00  1837.495  1838.520  1834.219  1834.666         2138   \n",
       "2020-12-11 06:00:00  1834.666  1837.193  1833.369  1834.686         2681   \n",
       "2020-12-11 07:00:00  1834.711  1836.772  1832.621  1833.931         2907   \n",
       "2020-12-11 08:00:00  1833.977  1836.905  1831.510  1831.828         3857   \n",
       "2020-12-11 09:00:00  1831.871  1837.584  1831.467  1836.920         4428   \n",
       "2020-12-11 10:00:00  1836.889  1839.519  1831.632  1831.993         4081   \n",
       "2020-12-11 11:00:00  1831.946  1833.604  1823.887  1832.968         5501   \n",
       "2020-12-11 12:00:00  1832.922  1835.289  1830.667  1834.623         4170   \n",
       "2020-12-11 13:00:00  1834.557  1840.938  1831.690  1839.906         5611   \n",
       "2020-12-11 14:00:00  1839.854  1842.501  1834.780  1841.296         5663   \n",
       "2020-12-11 15:00:00  1841.251  1847.615  1838.997  1844.478         6028   \n",
       "2020-12-11 16:00:00  1844.478  1846.618  1841.472  1842.347         4019   \n",
       "2020-12-11 17:00:00  1842.336  1843.237  1841.874  1841.874         3073   \n",
       "2020-12-11 18:00:00  1841.874  1842.489  1838.626  1840.605         3140   \n",
       "2020-12-11 19:00:00  1840.592  1840.897  1838.348  1838.712         3090   \n",
       "2020-12-11 20:00:00  1838.666  1839.482  1837.790  1839.222         2815   \n",
       "2020-12-11 21:00:00  1839.167  1840.068  1838.419  1839.550          646   \n",
       "\n",
       "                     spread  real_volume  return  next_close  \n",
       "time                                                          \n",
       "2020-12-11 02:00:00     300            0  -1.108    1837.167  \n",
       "2020-12-11 03:00:00     300            0   0.328    1837.495  \n",
       "2020-12-11 04:00:00     300            0  -2.829    1834.666  \n",
       "2020-12-11 05:00:00     300            0   0.020    1834.686  \n",
       "2020-12-11 06:00:00     300            0  -0.755    1833.931  \n",
       "2020-12-11 07:00:00     300            0  -2.103    1831.828  \n",
       "2020-12-11 08:00:00     300            0   5.092    1836.920  \n",
       "2020-12-11 09:00:00     300            0  -4.927    1831.993  \n",
       "2020-12-11 10:00:00     300            0   0.975    1832.968  \n",
       "2020-12-11 11:00:00     300            0   1.655    1834.623  \n",
       "2020-12-11 12:00:00     300            0   5.283    1839.906  \n",
       "2020-12-11 13:00:00     300            0   1.390    1841.296  \n",
       "2020-12-11 14:00:00     300            0   3.182    1844.478  \n",
       "2020-12-11 15:00:00     300            0  -2.131    1842.347  \n",
       "2020-12-11 16:00:00     300            0  -0.473    1841.874  \n",
       "2020-12-11 17:00:00     300            0  -1.269    1840.605  \n",
       "2020-12-11 18:00:00     300            0  -1.893    1838.712  \n",
       "2020-12-11 19:00:00     300            0   0.510    1839.222  \n",
       "2020-12-11 20:00:00     300            0   0.328    1839.550  \n",
       "2020-12-11 21:00:00     300            0     NaN         NaN  "
      ]
     },
     "execution_count": 6,
     "metadata": {},
     "output_type": "execute_result"
    }
   ],
   "source": [
    "df['next_close'] = df['close'].shift(-1)\n",
    "df.tail(20)"
   ]
  },
  {
   "cell_type": "code",
   "execution_count": 7,
   "metadata": {
    "ExecuteTime": {
     "end_time": "2020-12-13T06:43:48.413086Z",
     "start_time": "2020-12-13T06:43:48.403113Z"
    }
   },
   "outputs": [],
   "source": [
    "df.dropna(inplace=True)"
   ]
  },
  {
   "cell_type": "markdown",
   "metadata": {},
   "source": [
    "## Feature Engineering"
   ]
  },
  {
   "cell_type": "code",
   "execution_count": 8,
   "metadata": {
    "ExecuteTime": {
     "end_time": "2020-12-13T06:43:50.338167Z",
     "start_time": "2020-12-13T06:43:49.903450Z"
    }
   },
   "outputs": [],
   "source": [
    "from sklearn.preprocessing import StandardScaler"
   ]
  },
  {
   "cell_type": "code",
   "execution_count": 33,
   "metadata": {
    "ExecuteTime": {
     "end_time": "2020-12-13T06:57:21.745173Z",
     "start_time": "2020-12-13T06:57:21.739190Z"
    }
   },
   "outputs": [],
   "source": [
    "X = df[['open', 'high', 'low', 'close', 'tick_volume', 'spread']]\n",
    "Y = df['next_close'].copy()"
   ]
  },
  {
   "cell_type": "code",
   "execution_count": 34,
   "metadata": {
    "ExecuteTime": {
     "end_time": "2020-12-13T06:57:21.895233Z",
     "start_time": "2020-12-13T06:57:21.883267Z"
    }
   },
   "outputs": [
    {
     "name": "stderr",
     "output_type": "stream",
     "text": [
      "<ipython-input-34-63cda608d952>:1: SettingWithCopyWarning: \n",
      "A value is trying to be set on a copy of a slice from a DataFrame.\n",
      "Try using .loc[row_indexer,col_indexer] = value instead\n",
      "\n",
      "See the caveats in the documentation: https://pandas.pydata.org/pandas-docs/stable/user_guide/indexing.html#returning-a-view-versus-a-copy\n",
      "  X['macd'] = ta.trend.MACD(X['close']).macd()\n"
     ]
    }
   ],
   "source": [
    "X['macd'] = ta.trend.MACD(X['close']).macd()"
   ]
  },
  {
   "cell_type": "code",
   "execution_count": 35,
   "metadata": {
    "ExecuteTime": {
     "end_time": "2020-12-13T06:57:22.065977Z",
     "start_time": "2020-12-13T06:57:22.023089Z"
    }
   },
   "outputs": [
    {
     "name": "stderr",
     "output_type": "stream",
     "text": [
      "c:\\python38\\lib\\site-packages\\pandas\\core\\frame.py:2963: SettingWithCopyWarning: \n",
      "A value is trying to be set on a copy of a slice from a DataFrame.\n",
      "Try using .loc[row_indexer,col_indexer] = value instead\n",
      "\n",
      "See the caveats in the documentation: https://pandas.pydata.org/pandas-docs/stable/user_guide/indexing.html#returning-a-view-versus-a-copy\n",
      "  self[k1] = value[k2]\n"
     ]
    }
   ],
   "source": [
    "lookback_steps = [1, 2, 3, 5, 8]\n",
    "ohlc = ['open', 'high', 'low', 'close']\n",
    "lookback_cols = ohlc\n",
    "for lookback in lookback_steps:\n",
    "    lookback_features = X[lookback_cols].shift(lookback)\n",
    "    lookback_features.rename(columns=lambda col: f'p{lookback}_{col}', inplace=True)\n",
    "    X[lookback_features.columns] = lookback_features"
   ]
  },
  {
   "cell_type": "code",
   "execution_count": 36,
   "metadata": {
    "ExecuteTime": {
     "end_time": "2020-12-13T06:57:22.181862Z",
     "start_time": "2020-12-13T06:57:22.164907Z"
    }
   },
   "outputs": [],
   "source": [
    "Y = Y[~X.isna().any(axis=1)]\n",
    "X = X[~X.isna().any(axis=1)]"
   ]
  },
  {
   "cell_type": "code",
   "execution_count": 37,
   "metadata": {
    "ExecuteTime": {
     "end_time": "2020-12-13T06:57:22.434505Z",
     "start_time": "2020-12-13T06:57:22.325798Z"
    }
   },
   "outputs": [],
   "source": [
    "feature_scaler = StandardScaler()\n",
    "X.loc[:, X.columns] = feature_scaler.fit_transform(X)\n",
    "\n",
    "target_scaler = StandardScaler()\n",
    "Y[:] = target_scaler.fit_transform(np.expand_dims(Y.values, axis=1))[:, 0]"
   ]
  },
  {
   "cell_type": "code",
   "execution_count": 38,
   "metadata": {
    "ExecuteTime": {
     "end_time": "2020-12-13T06:57:22.474921Z",
     "start_time": "2020-12-13T06:57:22.460959Z"
    }
   },
   "outputs": [],
   "source": [
    "X_train = X.loc[:'2020-04-01']\n",
    "Y_train = Y.loc[:'2020-04-01']\n",
    "\n",
    "X_test = X.loc['2020-04-01':]\n",
    "Y_test = Y.loc['2020-04-01':]\n",
    "\n",
    "test_df = df.loc['2020-04-01':]"
   ]
  },
  {
   "cell_type": "code",
   "execution_count": 39,
   "metadata": {
    "ExecuteTime": {
     "end_time": "2020-12-13T06:57:22.666224Z",
     "start_time": "2020-12-13T06:57:22.642288Z"
    }
   },
   "outputs": [
    {
     "data": {
      "text/plain": [
       "(22628, 6, 4)"
      ]
     },
     "execution_count": 39,
     "metadata": {},
     "output_type": "execute_result"
    }
   ],
   "source": [
    "\n",
    "\n",
    "# X_timeseries = np.empty((len(X), len(lookback_steps)+1, 4), dtype=float)\n",
    "# Y_timeseries = target_scaler.fit_transform(np.expand_dims(Y.values, axis=1))\n",
    "# for timestep, lookback_step in enumerate(reversed(lookback_steps)):\n",
    "#     X_timeseries[:, timestep, :] = X[[f'p{lookback_step}_{col}' for col in ohlc]]\n",
    "# X_timeseries[:, -1, :] = X[ohlc]\n",
    "\n",
    "# X_timeseries_train = X_timeseries[X.index.isin(X_train.index)]\n",
    "# Y_timeseries_train = Y_timeseries[X.index.isin(X_train.index)]\n",
    "\n",
    "# X_timeseries_test = X_timeseries[X.index.isin(X_test.index)]\n",
    "# Y_timeseries_test = Y_timeseries[X.index.isin(X_test.index)]\n",
    "class TimeseriesTransformer:\n",
    "    def fit(self, X, y=None):\n",
    "        return self\n",
    "    def transform(self, X, y=None):\n",
    "        X_timeseries = np.empty((len(X), len(lookback_steps)+1, 4), dtype=float)\n",
    "#         Y_timeseries = target_scaler.transform(np.expand_dims(Y.values, axis=1))\n",
    "        for timestep, lookback_step in enumerate(reversed(lookback_steps)):\n",
    "            X_timeseries[:, timestep, :] = X[[f'p{lookback_step}_{col}' for col in ohlc]]\n",
    "        X_timeseries[:, -1, :] = X[ohlc]\n",
    "        return X_timeseries\n",
    "    \n",
    "TimeseriesTransformer().transform(X).shape\n"
   ]
  },
  {
   "cell_type": "markdown",
   "metadata": {},
   "source": [
    "# Model building"
   ]
  },
  {
   "cell_type": "code",
   "execution_count": 50,
   "metadata": {
    "ExecuteTime": {
     "end_time": "2020-12-13T07:36:27.720185Z",
     "start_time": "2020-12-13T07:36:27.714201Z"
    }
   },
   "outputs": [],
   "source": [
    "from sklearn.linear_model import LinearRegression\n",
    "from sklearn.svm import SVR\n",
    "from sklearn.ensemble import RandomForestRegressor\n",
    "from sklearn.neural_network import MLPRegressor\n",
    "from sklearn.pipeline import Pipeline\n",
    "import lightgbm as lgb\n",
    "\n",
    "from keras.models import Sequential\n",
    "from keras.layers import LSTM, Dense\n",
    "from keras.wrappers.scikit_learn import KerasRegressor\n",
    "\n",
    "from sklearn.metrics import mean_squared_error, r2_score"
   ]
  },
  {
   "cell_type": "code",
   "execution_count": 41,
   "metadata": {
    "ExecuteTime": {
     "end_time": "2020-12-13T06:57:23.622924Z",
     "start_time": "2020-12-13T06:57:23.617936Z"
    }
   },
   "outputs": [],
   "source": [
    "def build_lstm_model():\n",
    "    regressor = Sequential([\n",
    "        LSTM(32, input_shape=(len(lookback_steps), len(lookback_cols)), activation='relu'),\n",
    "        Dense(1)\n",
    "    ])\n",
    "    regressor.compile(optimizer='adam', loss='mse')\n",
    "    return regressor\n"
   ]
  },
  {
   "cell_type": "code",
   "execution_count": 56,
   "metadata": {
    "ExecuteTime": {
     "end_time": "2020-12-13T07:37:35.193522Z",
     "start_time": "2020-12-13T07:37:35.145652Z"
    }
   },
   "outputs": [
    {
     "data": {
      "text/plain": [
       "LinearRegression()"
      ]
     },
     "execution_count": 56,
     "metadata": {},
     "output_type": "execute_result"
    }
   ],
   "source": [
    "regressor = LinearRegression()\n",
    "# regressor = RandomForestRegressor(n_estimators=16)\n",
    "# regressor = SVR(kernel='linear')\n",
    "# regressor = MLPRegressor(hidden_layer_sizes=100, )\n",
    "# regressor = Pipeline([('TimeseriesTransformer', TimeseriesTransformer()),\n",
    "#                       ('LSTM', KerasRegressor(build_fn=build_lstm_model,\n",
    "#                                               epochs=10,\n",
    "#                                               batch_size=32))\n",
    "#                       ])\n",
    "\n",
    "regressor.fit(X_train, Y_train)"
   ]
  },
  {
   "cell_type": "code",
   "execution_count": 57,
   "metadata": {
    "ExecuteTime": {
     "end_time": "2020-12-13T07:37:35.804211Z",
     "start_time": "2020-12-13T07:37:35.796232Z"
    }
   },
   "outputs": [
    {
     "name": "stderr",
     "output_type": "stream",
     "text": [
      "<ipython-input-57-852cab15cfb3>:3: SettingWithCopyWarning: \n",
      "A value is trying to be set on a copy of a slice from a DataFrame.\n",
      "Try using .loc[row_indexer,col_indexer] = value instead\n",
      "\n",
      "See the caveats in the documentation: https://pandas.pydata.org/pandas-docs/stable/user_guide/indexing.html#returning-a-view-versus-a-copy\n",
      "  test_df['prediction'] = prediction\n"
     ]
    }
   ],
   "source": [
    "prediction = regressor.predict(X_test)\n",
    "prediction = target_scaler.inverse_transform(prediction)\n",
    "test_df['prediction'] = prediction"
   ]
  },
  {
   "cell_type": "code",
   "execution_count": 58,
   "metadata": {
    "ExecuteTime": {
     "end_time": "2020-12-13T07:37:36.182949Z",
     "start_time": "2020-12-13T07:37:35.973511Z"
    }
   },
   "outputs": [
    {
     "data": {
      "text/plain": [
       "<matplotlib.axes._subplots.AxesSubplot at 0x1b700af23d0>"
      ]
     },
     "execution_count": 58,
     "metadata": {},
     "output_type": "execute_result"
    },
    {
     "data": {
      "image/png": "[encoded data removed]",
      "text/plain": [
       "<Figure size 1152x576 with 1 Axes>"
      ]
     },
     "metadata": {
      "needs_background": "light"
     },
     "output_type": "display_data"
    }
   ],
   "source": [
    "test_df.plot(y=['next_close', 'prediction'], figsize=(16, 8))"
   ]
  },
  {
   "cell_type": "code",
   "execution_count": 59,
   "metadata": {
    "ExecuteTime": {
     "end_time": "2020-12-13T07:37:36.190927Z",
     "start_time": "2020-12-13T07:37:36.183947Z"
    }
   },
   "outputs": [
    {
     "name": "stdout",
     "output_type": "stream",
     "text": [
      "MSE 16.98147666703543\n",
      "R2 0.9984257302334952\n"
     ]
    }
   ],
   "source": [
    "y_label = test_df['next_close']\n",
    "y_pred = test_df['prediction']\n",
    "test_mse = mean_squared_error(y_label, y_pred)\n",
    "test_r2 = r2_score(y_label, y_pred)\n",
    "\n",
    "print('MSE', test_mse)\n",
    "print('R2', test_r2)"
   ]
  },
  {
   "cell_type": "code",
   "execution_count": 60,
   "metadata": {
    "ExecuteTime": {
     "end_time": "2020-12-13T07:37:39.734562Z",
     "start_time": "2020-12-13T07:37:39.728576Z"
    }
   },
   "outputs": [
    {
     "name": "stderr",
     "output_type": "stream",
     "text": [
      "<ipython-input-60-05558c8bed98>:1: SettingWithCopyWarning: \n",
      "A value is trying to be set on a copy of a slice from a DataFrame.\n",
      "Try using .loc[row_indexer,col_indexer] = value instead\n",
      "\n",
      "See the caveats in the documentation: https://pandas.pydata.org/pandas-docs/stable/user_guide/indexing.html#returning-a-view-versus-a-copy\n",
      "  test_df['action'] = test_df['prediction'] > test_df['close']\n"
     ]
    }
   ],
   "source": [
    "test_df['action'] = test_df['prediction'] > test_df['close']"
   ]
  },
  {
   "cell_type": "code",
   "execution_count": 61,
   "metadata": {
    "ExecuteTime": {
     "end_time": "2020-12-13T07:37:40.062683Z",
     "start_time": "2020-12-13T07:37:39.896127Z"
    }
   },
   "outputs": [
    {
     "name": "stderr",
     "output_type": "stream",
     "text": [
      "<ipython-input-61-2a26b8700529>:1: SettingWithCopyWarning: \n",
      "A value is trying to be set on a copy of a slice from a DataFrame.\n",
      "Try using .loc[row_indexer,col_indexer] = value instead\n",
      "\n",
      "See the caveats in the documentation: https://pandas.pydata.org/pandas-docs/stable/user_guide/indexing.html#returning-a-view-versus-a-copy\n",
      "  test_df['margin'] = test_df['return']*test_df['action']\n"
     ]
    },
    {
     "data": {
      "text/plain": [
       "<matplotlib.axes._subplots.AxesSubplot at 0x1b700a8e1f0>"
      ]
     },
     "execution_count": 61,
     "metadata": {},
     "output_type": "execute_result"
    },
    {
     "data": {
      "image/png": "[encoded data removed]",
      "text/plain": [
       "<Figure size 432x288 with 1 Axes>"
      ]
     },
     "metadata": {
      "needs_background": "light"
     },
     "output_type": "display_data"
    }
   ],
   "source": [
    "test_df['margin'] = test_df['return']*test_df['action']\n",
    "test_df.plot(y='margin')\n"
   ]
  },
  {
   "cell_type": "code",
   "execution_count": 62,
   "metadata": {
    "ExecuteTime": {
     "end_time": "2020-12-13T07:37:40.254679Z",
     "start_time": "2020-12-13T07:37:40.095594Z"
    }
   },
   "outputs": [
    {
     "data": {
      "text/plain": [
       "<matplotlib.axes._subplots.AxesSubplot at 0x1b700e0a0a0>"
      ]
     },
     "execution_count": 62,
     "metadata": {},
     "output_type": "execute_result"
    },
    {
     "data": {
      "image/png": "[encoded data removed]",
      "text/plain": [
       "<Figure size 432x288 with 1 Axes>"
      ]
     },
     "metadata": {
      "needs_background": "light"
     },
     "output_type": "display_data"
    }
   ],
   "source": [
    "result = test_df[['return', 'margin']]\n",
    "result = result / test_df['close'].values[0]\n",
    "\n",
    "\n",
    "result.cumsum().plot()"
   ]
  },
  {
   "cell_type": "code",
   "execution_count": 55,
   "metadata": {
    "ExecuteTime": {
     "end_time": "2020-12-13T07:36:45.291694Z",
     "start_time": "2020-12-13T07:36:45.128127Z"
    }
   },
   "outputs": [
    {
     "data": {
      "text/plain": [
       "<matplotlib.axes._subplots.AxesSubplot at 0x1b700a31310>"
      ]
     },
     "execution_count": 55,
     "metadata": {},
     "output_type": "execute_result"
    },
    {
     "data": {
      "image/png": "[encoded data removed]",
      "text/plain": [
       "<Figure size 432x288 with 1 Axes>"
      ]
     },
     "metadata": {
      "needs_background": "light"
     },
     "output_type": "display_data"
    }
   ],
   "source": [
    "result.resample('M', kind='period').sum().plot(kind='bar')"
   ]
  },
  {
   "cell_type": "code",
   "execution_count": null,
   "metadata": {},
   "outputs": [],
   "source": []
  }
 ],
 "metadata": {
  "kernelspec": {
   "display_name": "Python 3",
   "language": "python",
   "name": "python3"
  },
  "language_info": {
   "codemirror_mode": {
    "name": "ipython",
    "version": 3
   },
   "file_extension": ".py",
   "mimetype": "text/x-python",
   "name": "python",
   "nbconvert_exporter": "python",
   "pygments_lexer": "ipython3",
   "version": "3.8.3"
  }
 },
 "nbformat": 4,
 "nbformat_minor": 4
}
