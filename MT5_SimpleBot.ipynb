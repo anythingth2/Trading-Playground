{
 "cells": [
  {
   "cell_type": "code",
   "execution_count": 1,
   "metadata": {
    "ExecuteTime": {
     "end_time": "2020-12-07T16:02:43.246016Z",
     "start_time": "2020-12-07T16:02:42.594760Z"
    }
   },
   "outputs": [],
   "source": [
    "import numpy as np\n",
    "import matplotlib.pyplot as plt\n",
    "import pandas as pd\n",
    "import mplfinance as mpf\n",
    "import yfinance\n",
    "import ta\n",
    "from datetime import datetime\n",
    "import config\n",
    "import MetaTrader5 as mt5"
   ]
  },
  {
   "cell_type": "markdown",
   "metadata": {},
   "source": [
    "# Initialize MT5"
   ]
  },
  {
   "cell_type": "code",
   "execution_count": 2,
   "metadata": {
    "ExecuteTime": {
     "end_time": "2020-12-07T16:02:43.286907Z",
     "start_time": "2020-12-07T16:02:43.270954Z"
    }
   },
   "outputs": [
    {
     "name": "stdout",
     "output_type": "stream",
     "text": [
      "TerminalInfo(community_account=False, community_connection=False, connected=True, dlls_allowed=False, trade_allowed=False, tradeapi_disabled=False, email_enabled=False, ftp_enabled=False, notifications_enabled=False, mqid=False, build=2715, maxbars=100000, codepage=0, ping_last=464477, community_balance=0.0, retransmission=0.021925149974116143, company='MetaQuotes Software Corp.', name='MetaTrader 5', language='English', path='C:\\\\Program Files\\\\MetaTrader 5', data_path='C:\\\\Users\\\\ChiChaChai\\\\AppData\\\\Roaming\\\\MetaQuotes\\\\Terminal\\\\D0E8209F77C8CF37AD8BF550E51FF075', commondata_path='C:\\\\Users\\\\ChiChaChai\\\\AppData\\\\Roaming\\\\MetaQuotes\\\\Terminal\\\\Common')\n",
      "(500, 2715, '26 Nov 2020')\n"
     ]
    }
   ],
   "source": [
    "if not mt5.initialize(config.PATH,\n",
    "                      login=config.USERNAME,\n",
    "                      password=config.PASSWORD,\n",
    "                      server=config.SERVER\n",
    "                      ):\n",
    "    print(\"initialize() failed\")\n",
    "    mt5.shutdown()\n",
    "# request connection status and parameters\n",
    "print(mt5.terminal_info())\n",
    "# get data on MetaTrader 5 version\n",
    "print(mt5.version())"
   ]
  },
  {
   "cell_type": "markdown",
   "metadata": {},
   "source": [
    "# Import data"
   ]
  },
  {
   "cell_type": "code",
   "execution_count": 3,
   "metadata": {
    "ExecuteTime": {
     "end_time": "2020-12-07T16:02:45.240574Z",
     "start_time": "2020-12-07T16:02:45.207662Z"
    }
   },
   "outputs": [
    {
     "data": {
      "text/html": [
       "<div>\n",
       "<style scoped>\n",
       "    .dataframe tbody tr th:only-of-type {\n",
       "        vertical-align: middle;\n",
       "    }\n",
       "\n",
       "    .dataframe tbody tr th {\n",
       "        vertical-align: top;\n",
       "    }\n",
       "\n",
       "    .dataframe thead th {\n",
       "        text-align: right;\n",
       "    }\n",
       "</style>\n",
       "<table border=\"1\" class=\"dataframe\">\n",
       "  <thead>\n",
       "    <tr style=\"text-align: right;\">\n",
       "      <th></th>\n",
       "      <th>open</th>\n",
       "      <th>high</th>\n",
       "      <th>low</th>\n",
       "      <th>close</th>\n",
       "      <th>tick_volume</th>\n",
       "      <th>spread</th>\n",
       "      <th>real_volume</th>\n",
       "    </tr>\n",
       "    <tr>\n",
       "      <th>time</th>\n",
       "      <th></th>\n",
       "      <th></th>\n",
       "      <th></th>\n",
       "      <th></th>\n",
       "      <th></th>\n",
       "      <th></th>\n",
       "      <th></th>\n",
       "    </tr>\n",
       "  </thead>\n",
       "  <tbody>\n",
       "    <tr>\n",
       "      <th>2015-12-01</th>\n",
       "      <td>1.05689</td>\n",
       "      <td>1.06365</td>\n",
       "      <td>1.05626</td>\n",
       "      <td>1.06257</td>\n",
       "      <td>132441</td>\n",
       "      <td>0</td>\n",
       "      <td>0</td>\n",
       "    </tr>\n",
       "    <tr>\n",
       "      <th>2015-12-02</th>\n",
       "      <td>1.06251</td>\n",
       "      <td>1.06316</td>\n",
       "      <td>1.05502</td>\n",
       "      <td>1.06098</td>\n",
       "      <td>144697</td>\n",
       "      <td>0</td>\n",
       "      <td>0</td>\n",
       "    </tr>\n",
       "    <tr>\n",
       "      <th>2015-12-03</th>\n",
       "      <td>1.06097</td>\n",
       "      <td>1.09800</td>\n",
       "      <td>1.05184</td>\n",
       "      <td>1.09169</td>\n",
       "      <td>239158</td>\n",
       "      <td>0</td>\n",
       "      <td>0</td>\n",
       "    </tr>\n",
       "    <tr>\n",
       "      <th>2015-12-04</th>\n",
       "      <td>1.09181</td>\n",
       "      <td>1.09555</td>\n",
       "      <td>1.08352</td>\n",
       "      <td>1.08813</td>\n",
       "      <td>197149</td>\n",
       "      <td>0</td>\n",
       "      <td>0</td>\n",
       "    </tr>\n",
       "    <tr>\n",
       "      <th>2015-12-06</th>\n",
       "      <td>1.08727</td>\n",
       "      <td>1.08865</td>\n",
       "      <td>1.08628</td>\n",
       "      <td>1.08805</td>\n",
       "      <td>6620</td>\n",
       "      <td>0</td>\n",
       "      <td>0</td>\n",
       "    </tr>\n",
       "    <tr>\n",
       "      <th>...</th>\n",
       "      <td>...</td>\n",
       "      <td>...</td>\n",
       "      <td>...</td>\n",
       "      <td>...</td>\n",
       "      <td>...</td>\n",
       "      <td>...</td>\n",
       "      <td>...</td>\n",
       "    </tr>\n",
       "    <tr>\n",
       "      <th>2020-12-02</th>\n",
       "      <td>1.20703</td>\n",
       "      <td>1.21180</td>\n",
       "      <td>1.20396</td>\n",
       "      <td>1.21128</td>\n",
       "      <td>44784</td>\n",
       "      <td>10</td>\n",
       "      <td>0</td>\n",
       "    </tr>\n",
       "    <tr>\n",
       "      <th>2020-12-03</th>\n",
       "      <td>1.21136</td>\n",
       "      <td>1.21741</td>\n",
       "      <td>1.21007</td>\n",
       "      <td>1.21420</td>\n",
       "      <td>41650</td>\n",
       "      <td>10</td>\n",
       "      <td>0</td>\n",
       "    </tr>\n",
       "    <tr>\n",
       "      <th>2020-12-04</th>\n",
       "      <td>1.21447</td>\n",
       "      <td>1.21770</td>\n",
       "      <td>1.21097</td>\n",
       "      <td>1.21156</td>\n",
       "      <td>44315</td>\n",
       "      <td>10</td>\n",
       "      <td>0</td>\n",
       "    </tr>\n",
       "    <tr>\n",
       "      <th>2020-12-06</th>\n",
       "      <td>1.21219</td>\n",
       "      <td>1.21288</td>\n",
       "      <td>1.21150</td>\n",
       "      <td>1.21172</td>\n",
       "      <td>947</td>\n",
       "      <td>60</td>\n",
       "      <td>0</td>\n",
       "    </tr>\n",
       "    <tr>\n",
       "      <th>2020-12-07</th>\n",
       "      <td>1.21197</td>\n",
       "      <td>1.21658</td>\n",
       "      <td>1.20781</td>\n",
       "      <td>1.21322</td>\n",
       "      <td>31373</td>\n",
       "      <td>10</td>\n",
       "      <td>0</td>\n",
       "    </tr>\n",
       "  </tbody>\n",
       "</table>\n",
       "<p>1522 rows × 7 columns</p>\n",
       "</div>"
      ],
      "text/plain": [
       "               open     high      low    close  tick_volume  spread  \\\n",
       "time                                                                  \n",
       "2015-12-01  1.05689  1.06365  1.05626  1.06257       132441       0   \n",
       "2015-12-02  1.06251  1.06316  1.05502  1.06098       144697       0   \n",
       "2015-12-03  1.06097  1.09800  1.05184  1.09169       239158       0   \n",
       "2015-12-04  1.09181  1.09555  1.08352  1.08813       197149       0   \n",
       "2015-12-06  1.08727  1.08865  1.08628  1.08805         6620       0   \n",
       "...             ...      ...      ...      ...          ...     ...   \n",
       "2020-12-02  1.20703  1.21180  1.20396  1.21128        44784      10   \n",
       "2020-12-03  1.21136  1.21741  1.21007  1.21420        41650      10   \n",
       "2020-12-04  1.21447  1.21770  1.21097  1.21156        44315      10   \n",
       "2020-12-06  1.21219  1.21288  1.21150  1.21172          947      60   \n",
       "2020-12-07  1.21197  1.21658  1.20781  1.21322        31373      10   \n",
       "\n",
       "            real_volume  \n",
       "time                     \n",
       "2015-12-01            0  \n",
       "2015-12-02            0  \n",
       "2015-12-03            0  \n",
       "2015-12-04            0  \n",
       "2015-12-06            0  \n",
       "...                 ...  \n",
       "2020-12-02            0  \n",
       "2020-12-03            0  \n",
       "2020-12-04            0  \n",
       "2020-12-06            0  \n",
       "2020-12-07            0  \n",
       "\n",
       "[1522 rows x 7 columns]"
      ]
     },
     "execution_count": 3,
     "metadata": {},
     "output_type": "execute_result"
    }
   ],
   "source": [
    "eur_df = pd.DataFrame(mt5.copy_rates_range(\"EURUSDm\", mt5.TIMEFRAME_D1, datetime(2015, 12, 1), datetime.now()))\n",
    "eur_df['time'] = pd.to_datetime(eur_df['time'], unit='s')\n",
    "eur_df.set_index('time', inplace=True)\n",
    "eur_df"
   ]
  },
  {
   "cell_type": "markdown",
   "metadata": {},
   "source": [
    "# Pre-processing"
   ]
  },
  {
   "cell_type": "markdown",
   "metadata": {},
   "source": [
    "## Define target"
   ]
  },
  {
   "cell_type": "code",
   "execution_count": 4,
   "metadata": {
    "ExecuteTime": {
     "end_time": "2020-12-07T16:02:47.218672Z",
     "start_time": "2020-12-07T16:02:47.205708Z"
    }
   },
   "outputs": [],
   "source": [
    "df = eur_df.copy()\n",
    "df = df.ffill()\n",
    "df['return'] = df['close'].shift(-1) - df['close']"
   ]
  },
  {
   "cell_type": "code",
   "execution_count": 5,
   "metadata": {
    "ExecuteTime": {
     "end_time": "2020-12-07T16:02:47.656027Z",
     "start_time": "2020-12-07T16:02:47.466535Z"
    }
   },
   "outputs": [
    {
     "data": {
      "text/plain": [
       "<matplotlib.axes._subplots.AxesSubplot at 0x23fe3d5d9d0>"
      ]
     },
     "execution_count": 5,
     "metadata": {},
     "output_type": "execute_result"
    },
    {
     "data": {
      "image/png": "[encoded data removed]",
      "text/plain": [
       "<Figure size 432x288 with 1 Axes>"
      ]
     },
     "metadata": {
      "needs_background": "light"
     },
     "output_type": "display_data"
    }
   ],
   "source": [
    "df.loc['2020-01-01':].plot(y='close')"
   ]
  },
  {
   "cell_type": "code",
   "execution_count": 6,
   "metadata": {
    "ExecuteTime": {
     "end_time": "2020-12-07T16:02:47.985149Z",
     "start_time": "2020-12-07T16:02:47.963207Z"
    }
   },
   "outputs": [
    {
     "data": {
      "text/html": [
       "<div>\n",
       "<style scoped>\n",
       "    .dataframe tbody tr th:only-of-type {\n",
       "        vertical-align: middle;\n",
       "    }\n",
       "\n",
       "    .dataframe tbody tr th {\n",
       "        vertical-align: top;\n",
       "    }\n",
       "\n",
       "    .dataframe thead th {\n",
       "        text-align: right;\n",
       "    }\n",
       "</style>\n",
       "<table border=\"1\" class=\"dataframe\">\n",
       "  <thead>\n",
       "    <tr style=\"text-align: right;\">\n",
       "      <th></th>\n",
       "      <th>open</th>\n",
       "      <th>high</th>\n",
       "      <th>low</th>\n",
       "      <th>close</th>\n",
       "      <th>tick_volume</th>\n",
       "      <th>spread</th>\n",
       "      <th>real_volume</th>\n",
       "      <th>return</th>\n",
       "      <th>next_close</th>\n",
       "    </tr>\n",
       "    <tr>\n",
       "      <th>time</th>\n",
       "      <th></th>\n",
       "      <th></th>\n",
       "      <th></th>\n",
       "      <th></th>\n",
       "      <th></th>\n",
       "      <th></th>\n",
       "      <th></th>\n",
       "      <th></th>\n",
       "      <th></th>\n",
       "    </tr>\n",
       "  </thead>\n",
       "  <tbody>\n",
       "    <tr>\n",
       "      <th>2020-11-15</th>\n",
       "      <td>1.18305</td>\n",
       "      <td>1.18458</td>\n",
       "      <td>1.18283</td>\n",
       "      <td>1.18418</td>\n",
       "      <td>927</td>\n",
       "      <td>60</td>\n",
       "      <td>0</td>\n",
       "      <td>0.00163</td>\n",
       "      <td>1.18581</td>\n",
       "    </tr>\n",
       "    <tr>\n",
       "      <th>2020-11-16</th>\n",
       "      <td>1.18443</td>\n",
       "      <td>1.18683</td>\n",
       "      <td>1.18138</td>\n",
       "      <td>1.18581</td>\n",
       "      <td>38922</td>\n",
       "      <td>10</td>\n",
       "      <td>0</td>\n",
       "      <td>0.00043</td>\n",
       "      <td>1.18624</td>\n",
       "    </tr>\n",
       "    <tr>\n",
       "      <th>2020-11-17</th>\n",
       "      <td>1.18589</td>\n",
       "      <td>1.18933</td>\n",
       "      <td>1.18422</td>\n",
       "      <td>1.18624</td>\n",
       "      <td>30377</td>\n",
       "      <td>10</td>\n",
       "      <td>0</td>\n",
       "      <td>-0.00183</td>\n",
       "      <td>1.18441</td>\n",
       "    </tr>\n",
       "    <tr>\n",
       "      <th>2020-11-18</th>\n",
       "      <td>1.18632</td>\n",
       "      <td>1.18905</td>\n",
       "      <td>1.18420</td>\n",
       "      <td>1.18441</td>\n",
       "      <td>32882</td>\n",
       "      <td>10</td>\n",
       "      <td>0</td>\n",
       "      <td>0.00200</td>\n",
       "      <td>1.18641</td>\n",
       "    </tr>\n",
       "    <tr>\n",
       "      <th>2020-11-19</th>\n",
       "      <td>1.18449</td>\n",
       "      <td>1.18820</td>\n",
       "      <td>1.18159</td>\n",
       "      <td>1.18641</td>\n",
       "      <td>34606</td>\n",
       "      <td>10</td>\n",
       "      <td>0</td>\n",
       "      <td>-0.00128</td>\n",
       "      <td>1.18513</td>\n",
       "    </tr>\n",
       "    <tr>\n",
       "      <th>2020-11-20</th>\n",
       "      <td>1.18650</td>\n",
       "      <td>1.18903</td>\n",
       "      <td>1.18494</td>\n",
       "      <td>1.18513</td>\n",
       "      <td>29656</td>\n",
       "      <td>10</td>\n",
       "      <td>0</td>\n",
       "      <td>0.00113</td>\n",
       "      <td>1.18626</td>\n",
       "    </tr>\n",
       "    <tr>\n",
       "      <th>2020-11-22</th>\n",
       "      <td>1.18507</td>\n",
       "      <td>1.18631</td>\n",
       "      <td>1.18498</td>\n",
       "      <td>1.18626</td>\n",
       "      <td>804</td>\n",
       "      <td>60</td>\n",
       "      <td>0</td>\n",
       "      <td>-0.00215</td>\n",
       "      <td>1.18411</td>\n",
       "    </tr>\n",
       "    <tr>\n",
       "      <th>2020-11-23</th>\n",
       "      <td>1.18652</td>\n",
       "      <td>1.19055</td>\n",
       "      <td>1.17997</td>\n",
       "      <td>1.18411</td>\n",
       "      <td>35482</td>\n",
       "      <td>10</td>\n",
       "      <td>0</td>\n",
       "      <td>0.00552</td>\n",
       "      <td>1.18963</td>\n",
       "    </tr>\n",
       "    <tr>\n",
       "      <th>2020-11-24</th>\n",
       "      <td>1.18419</td>\n",
       "      <td>1.18966</td>\n",
       "      <td>1.18381</td>\n",
       "      <td>1.18963</td>\n",
       "      <td>36094</td>\n",
       "      <td>10</td>\n",
       "      <td>0</td>\n",
       "      <td>0.00189</td>\n",
       "      <td>1.19152</td>\n",
       "    </tr>\n",
       "    <tr>\n",
       "      <th>2020-11-25</th>\n",
       "      <td>1.18971</td>\n",
       "      <td>1.19293</td>\n",
       "      <td>1.18814</td>\n",
       "      <td>1.19152</td>\n",
       "      <td>41295</td>\n",
       "      <td>10</td>\n",
       "      <td>0</td>\n",
       "      <td>-0.00054</td>\n",
       "      <td>1.19098</td>\n",
       "    </tr>\n",
       "    <tr>\n",
       "      <th>2020-11-26</th>\n",
       "      <td>1.19160</td>\n",
       "      <td>1.19404</td>\n",
       "      <td>1.18850</td>\n",
       "      <td>1.19098</td>\n",
       "      <td>23592</td>\n",
       "      <td>10</td>\n",
       "      <td>0</td>\n",
       "      <td>0.00490</td>\n",
       "      <td>1.19588</td>\n",
       "    </tr>\n",
       "    <tr>\n",
       "      <th>2020-11-27</th>\n",
       "      <td>1.19106</td>\n",
       "      <td>1.19619</td>\n",
       "      <td>1.19091</td>\n",
       "      <td>1.19588</td>\n",
       "      <td>26174</td>\n",
       "      <td>10</td>\n",
       "      <td>0</td>\n",
       "      <td>0.00091</td>\n",
       "      <td>1.19679</td>\n",
       "    </tr>\n",
       "    <tr>\n",
       "      <th>2020-11-29</th>\n",
       "      <td>1.19583</td>\n",
       "      <td>1.19709</td>\n",
       "      <td>1.19583</td>\n",
       "      <td>1.19679</td>\n",
       "      <td>762</td>\n",
       "      <td>60</td>\n",
       "      <td>0</td>\n",
       "      <td>-0.00317</td>\n",
       "      <td>1.19362</td>\n",
       "    </tr>\n",
       "    <tr>\n",
       "      <th>2020-11-30</th>\n",
       "      <td>1.19708</td>\n",
       "      <td>1.20027</td>\n",
       "      <td>1.19193</td>\n",
       "      <td>1.19362</td>\n",
       "      <td>37937</td>\n",
       "      <td>10</td>\n",
       "      <td>0</td>\n",
       "      <td>0.01333</td>\n",
       "      <td>1.20695</td>\n",
       "    </tr>\n",
       "    <tr>\n",
       "      <th>2020-12-01</th>\n",
       "      <td>1.19369</td>\n",
       "      <td>1.20762</td>\n",
       "      <td>1.19350</td>\n",
       "      <td>1.20695</td>\n",
       "      <td>42673</td>\n",
       "      <td>10</td>\n",
       "      <td>0</td>\n",
       "      <td>0.00433</td>\n",
       "      <td>1.21128</td>\n",
       "    </tr>\n",
       "    <tr>\n",
       "      <th>2020-12-02</th>\n",
       "      <td>1.20703</td>\n",
       "      <td>1.21180</td>\n",
       "      <td>1.20396</td>\n",
       "      <td>1.21128</td>\n",
       "      <td>44784</td>\n",
       "      <td>10</td>\n",
       "      <td>0</td>\n",
       "      <td>0.00292</td>\n",
       "      <td>1.21420</td>\n",
       "    </tr>\n",
       "    <tr>\n",
       "      <th>2020-12-03</th>\n",
       "      <td>1.21136</td>\n",
       "      <td>1.21741</td>\n",
       "      <td>1.21007</td>\n",
       "      <td>1.21420</td>\n",
       "      <td>41650</td>\n",
       "      <td>10</td>\n",
       "      <td>0</td>\n",
       "      <td>-0.00264</td>\n",
       "      <td>1.21156</td>\n",
       "    </tr>\n",
       "    <tr>\n",
       "      <th>2020-12-04</th>\n",
       "      <td>1.21447</td>\n",
       "      <td>1.21770</td>\n",
       "      <td>1.21097</td>\n",
       "      <td>1.21156</td>\n",
       "      <td>44315</td>\n",
       "      <td>10</td>\n",
       "      <td>0</td>\n",
       "      <td>0.00016</td>\n",
       "      <td>1.21172</td>\n",
       "    </tr>\n",
       "    <tr>\n",
       "      <th>2020-12-06</th>\n",
       "      <td>1.21219</td>\n",
       "      <td>1.21288</td>\n",
       "      <td>1.21150</td>\n",
       "      <td>1.21172</td>\n",
       "      <td>947</td>\n",
       "      <td>60</td>\n",
       "      <td>0</td>\n",
       "      <td>0.00150</td>\n",
       "      <td>1.21322</td>\n",
       "    </tr>\n",
       "    <tr>\n",
       "      <th>2020-12-07</th>\n",
       "      <td>1.21197</td>\n",
       "      <td>1.21658</td>\n",
       "      <td>1.20781</td>\n",
       "      <td>1.21322</td>\n",
       "      <td>31373</td>\n",
       "      <td>10</td>\n",
       "      <td>0</td>\n",
       "      <td>NaN</td>\n",
       "      <td>NaN</td>\n",
       "    </tr>\n",
       "  </tbody>\n",
       "</table>\n",
       "</div>"
      ],
      "text/plain": [
       "               open     high      low    close  tick_volume  spread  \\\n",
       "time                                                                  \n",
       "2020-11-15  1.18305  1.18458  1.18283  1.18418          927      60   \n",
       "2020-11-16  1.18443  1.18683  1.18138  1.18581        38922      10   \n",
       "2020-11-17  1.18589  1.18933  1.18422  1.18624        30377      10   \n",
       "2020-11-18  1.18632  1.18905  1.18420  1.18441        32882      10   \n",
       "2020-11-19  1.18449  1.18820  1.18159  1.18641        34606      10   \n",
       "2020-11-20  1.18650  1.18903  1.18494  1.18513        29656      10   \n",
       "2020-11-22  1.18507  1.18631  1.18498  1.18626          804      60   \n",
       "2020-11-23  1.18652  1.19055  1.17997  1.18411        35482      10   \n",
       "2020-11-24  1.18419  1.18966  1.18381  1.18963        36094      10   \n",
       "2020-11-25  1.18971  1.19293  1.18814  1.19152        41295      10   \n",
       "2020-11-26  1.19160  1.19404  1.18850  1.19098        23592      10   \n",
       "2020-11-27  1.19106  1.19619  1.19091  1.19588        26174      10   \n",
       "2020-11-29  1.19583  1.19709  1.19583  1.19679          762      60   \n",
       "2020-11-30  1.19708  1.20027  1.19193  1.19362        37937      10   \n",
       "2020-12-01  1.19369  1.20762  1.19350  1.20695        42673      10   \n",
       "2020-12-02  1.20703  1.21180  1.20396  1.21128        44784      10   \n",
       "2020-12-03  1.21136  1.21741  1.21007  1.21420        41650      10   \n",
       "2020-12-04  1.21447  1.21770  1.21097  1.21156        44315      10   \n",
       "2020-12-06  1.21219  1.21288  1.21150  1.21172          947      60   \n",
       "2020-12-07  1.21197  1.21658  1.20781  1.21322        31373      10   \n",
       "\n",
       "            real_volume   return  next_close  \n",
       "time                                          \n",
       "2020-11-15            0  0.00163     1.18581  \n",
       "2020-11-16            0  0.00043     1.18624  \n",
       "2020-11-17            0 -0.00183     1.18441  \n",
       "2020-11-18            0  0.00200     1.18641  \n",
       "2020-11-19            0 -0.00128     1.18513  \n",
       "2020-11-20            0  0.00113     1.18626  \n",
       "2020-11-22            0 -0.00215     1.18411  \n",
       "2020-11-23            0  0.00552     1.18963  \n",
       "2020-11-24            0  0.00189     1.19152  \n",
       "2020-11-25            0 -0.00054     1.19098  \n",
       "2020-11-26            0  0.00490     1.19588  \n",
       "2020-11-27            0  0.00091     1.19679  \n",
       "2020-11-29            0 -0.00317     1.19362  \n",
       "2020-11-30            0  0.01333     1.20695  \n",
       "2020-12-01            0  0.00433     1.21128  \n",
       "2020-12-02            0  0.00292     1.21420  \n",
       "2020-12-03            0 -0.00264     1.21156  \n",
       "2020-12-04            0  0.00016     1.21172  \n",
       "2020-12-06            0  0.00150     1.21322  \n",
       "2020-12-07            0      NaN         NaN  "
      ]
     },
     "execution_count": 6,
     "metadata": {},
     "output_type": "execute_result"
    }
   ],
   "source": [
    "df['next_close'] = df['close'].shift(-1)\n",
    "df.tail(20)"
   ]
  },
  {
   "cell_type": "code",
   "execution_count": 7,
   "metadata": {
    "ExecuteTime": {
     "end_time": "2020-12-07T16:02:48.453922Z",
     "start_time": "2020-12-07T16:02:48.445944Z"
    }
   },
   "outputs": [],
   "source": [
    "df.dropna(inplace=True)"
   ]
  },
  {
   "cell_type": "markdown",
   "metadata": {},
   "source": [
    "## Feature Engineering"
   ]
  },
  {
   "cell_type": "code",
   "execution_count": 8,
   "metadata": {
    "ExecuteTime": {
     "end_time": "2020-12-07T16:02:49.598458Z",
     "start_time": "2020-12-07T16:02:49.170604Z"
    }
   },
   "outputs": [],
   "source": [
    "from sklearn.preprocessing import StandardScaler"
   ]
  },
  {
   "cell_type": "code",
   "execution_count": 9,
   "metadata": {
    "ExecuteTime": {
     "end_time": "2020-12-07T16:02:49.604441Z",
     "start_time": "2020-12-07T16:02:49.599468Z"
    }
   },
   "outputs": [],
   "source": [
    "X = df[['open', 'high', 'low', 'close', 'tick_volume', 'spread']]\n",
    "Y = df['next_close'].copy()"
   ]
  },
  {
   "cell_type": "code",
   "execution_count": 10,
   "metadata": {
    "ExecuteTime": {
     "end_time": "2020-12-07T16:02:50.888081Z",
     "start_time": "2020-12-07T16:02:50.868134Z"
    }
   },
   "outputs": [
    {
     "name": "stderr",
     "output_type": "stream",
     "text": [
      "c:\\python38\\lib\\site-packages\\pandas\\core\\indexing.py:966: SettingWithCopyWarning: \n",
      "A value is trying to be set on a copy of a slice from a DataFrame.\n",
      "Try using .loc[row_indexer,col_indexer] = value instead\n",
      "\n",
      "See the caveats in the documentation: https://pandas.pydata.org/pandas-docs/stable/user_guide/indexing.html#returning-a-view-versus-a-copy\n",
      "  self.obj[item] = s\n"
     ]
    }
   ],
   "source": [
    "feature_scaler = StandardScaler()\n",
    "X.loc[:, X.columns] = feature_scaler.fit_transform(X)\n",
    "\n",
    "target_scaler = StandardScaler()\n",
    "Y[:] = target_scaler.fit_transform(np.expand_dims(Y.values, axis=1))[:, 0]"
   ]
  },
  {
   "cell_type": "code",
   "execution_count": 16,
   "metadata": {
    "ExecuteTime": {
     "end_time": "2020-12-07T16:03:21.642653Z",
     "start_time": "2020-12-07T16:03:21.633677Z"
    }
   },
   "outputs": [],
   "source": [
    "X_train = X.loc[:'2020-04-01']\n",
    "Y_train = Y.loc[:'2020-04-01']\n",
    "\n",
    "X_test = X.loc['2020-04-01':]\n",
    "Y_test = Y.loc['2020-04-01':]\n",
    "\n",
    "test_df = df.loc['2020-04-01':]"
   ]
  },
  {
   "cell_type": "markdown",
   "metadata": {},
   "source": [
    "# Model building"
   ]
  },
  {
   "cell_type": "code",
   "execution_count": 12,
   "metadata": {
    "ExecuteTime": {
     "end_time": "2020-12-07T16:02:52.229784Z",
     "start_time": "2020-12-07T16:02:52.162942Z"
    }
   },
   "outputs": [],
   "source": [
    "from sklearn.linear_model import LinearRegression\n",
    "from sklearn.svm import SVR"
   ]
  },
  {
   "cell_type": "code",
   "execution_count": 13,
   "metadata": {
    "ExecuteTime": {
     "end_time": "2020-12-07T16:02:52.444189Z",
     "start_time": "2020-12-07T16:02:52.434215Z"
    }
   },
   "outputs": [
    {
     "data": {
      "text/plain": [
       "LinearRegression()"
      ]
     },
     "execution_count": 13,
     "metadata": {},
     "output_type": "execute_result"
    }
   ],
   "source": [
    "regressor = LinearRegression()\n",
    "regressor.fit(X_train, Y_train)"
   ]
  },
  {
   "cell_type": "code",
   "execution_count": 14,
   "metadata": {
    "ExecuteTime": {
     "end_time": "2020-12-07T16:02:52.665611Z",
     "start_time": "2020-12-07T16:02:52.658628Z"
    }
   },
   "outputs": [
    {
     "data": {
      "text/plain": [
       "open           0.054384\n",
       "high          -0.057731\n",
       "low           -0.043805\n",
       "close          1.039496\n",
       "tick_volume   -0.003155\n",
       "spread         0.002645\n",
       "dtype: float64"
      ]
     },
     "execution_count": 14,
     "metadata": {},
     "output_type": "execute_result"
    }
   ],
   "source": [
    "pd.Series(regressor.coef_, index=X.columns)"
   ]
  },
  {
   "cell_type": "code",
   "execution_count": 21,
   "metadata": {
    "ExecuteTime": {
     "end_time": "2020-12-07T16:05:18.643002Z",
     "start_time": "2020-12-07T16:05:18.636005Z"
    }
   },
   "outputs": [
    {
     "name": "stderr",
     "output_type": "stream",
     "text": [
      "<ipython-input-21-9b15f5181ea7>:5: SettingWithCopyWarning: \n",
      "A value is trying to be set on a copy of a slice from a DataFrame.\n",
      "Try using .loc[row_indexer,col_indexer] = value instead\n",
      "\n",
      "See the caveats in the documentation: https://pandas.pydata.org/pandas-docs/stable/user_guide/indexing.html#returning-a-view-versus-a-copy\n",
      "  test_df['prediction'] = prediction\n"
     ]
    }
   ],
   "source": [
    "prediction = regressor.predict(X_test)\n",
    "prediction = target_scaler.inverse_transform(np.expand_dims(prediction, axis=1))\n",
    "prediction = np.squeeze(prediction)\n",
    "prediction = pd.Series(prediction, index=Y_test.index)\n",
    "test_df['prediction'] = prediction"
   ]
  },
  {
   "cell_type": "code",
   "execution_count": 22,
   "metadata": {
    "ExecuteTime": {
     "end_time": "2020-12-07T16:05:21.759195Z",
     "start_time": "2020-12-07T16:05:21.575216Z"
    }
   },
   "outputs": [
    {
     "data": {
      "text/plain": [
       "<matplotlib.axes._subplots.AxesSubplot at 0x23ff94c1850>"
      ]
     },
     "execution_count": 22,
     "metadata": {},
     "output_type": "execute_result"
    },
    {
     "data": {
      "image/png": "[encoded data removed]",
      "text/plain": [
       "<Figure size 1152x576 with 1 Axes>"
      ]
     },
     "metadata": {
      "needs_background": "light"
     },
     "output_type": "display_data"
    }
   ],
   "source": [
    "test_df.plot(y=['next_close', 'prediction'], figsize=(16, 8))"
   ]
  },
  {
   "cell_type": "code",
   "execution_count": 99,
   "metadata": {
    "ExecuteTime": {
     "end_time": "2020-12-07T16:00:47.736267Z",
     "start_time": "2020-12-07T16:00:47.732278Z"
    }
   },
   "outputs": [],
   "source": [
    "from sklearn.metrics import mean_squared_error, r2_score"
   ]
  },
  {
   "cell_type": "code",
   "execution_count": 100,
   "metadata": {
    "ExecuteTime": {
     "end_time": "2020-12-07T16:00:47.988593Z",
     "start_time": "2020-12-07T16:00:47.980616Z"
    }
   },
   "outputs": [
    {
     "name": "stdout",
     "output_type": "stream",
     "text": [
      "MSE 1.4134464347105407\n",
      "R2 -872.5528946460689\n"
     ]
    }
   ],
   "source": [
    "y_label = test_df['next_close']\n",
    "y_pred = test_df['prediction']\n",
    "test_mse = mean_squared_error(y_label, y_pred)\n",
    "test_r2 = r2_score(y_label, y_pred)\n",
    "\n",
    "print('MSE', test_mse)\n",
    "print('R2', test_r2)"
   ]
  },
  {
   "cell_type": "code",
   "execution_count": 74,
   "metadata": {
    "ExecuteTime": {
     "end_time": "2020-12-07T15:49:14.428333Z",
     "start_time": "2020-12-07T15:49:14.423348Z"
    }
   },
   "outputs": [
    {
     "name": "stderr",
     "output_type": "stream",
     "text": [
      "<ipython-input-74-05558c8bed98>:1: SettingWithCopyWarning: \n",
      "A value is trying to be set on a copy of a slice from a DataFrame.\n",
      "Try using .loc[row_indexer,col_indexer] = value instead\n",
      "\n",
      "See the caveats in the documentation: https://pandas.pydata.org/pandas-docs/stable/user_guide/indexing.html#returning-a-view-versus-a-copy\n",
      "  test_df['action'] = test_df['prediction'] > test_df['close']\n"
     ]
    }
   ],
   "source": [
    "test_df['action'] = test_df['prediction'] > test_df['close']"
   ]
  },
  {
   "cell_type": "code",
   "execution_count": 18,
   "metadata": {
    "ExecuteTime": {
     "end_time": "2020-12-07T15:24:46.935944Z",
     "start_time": "2020-12-07T15:24:46.761585Z"
    }
   },
   "outputs": [
    {
     "name": "stderr",
     "output_type": "stream",
     "text": [
      "<ipython-input-18-2a26b8700529>:1: SettingWithCopyWarning: \n",
      "A value is trying to be set on a copy of a slice from a DataFrame.\n",
      "Try using .loc[row_indexer,col_indexer] = value instead\n",
      "\n",
      "See the caveats in the documentation: https://pandas.pydata.org/pandas-docs/stable/user_guide/indexing.html#returning-a-view-versus-a-copy\n",
      "  test_df['margin'] = test_df['return']*test_df['action']\n"
     ]
    },
    {
     "data": {
      "text/plain": [
       "<matplotlib.axes._subplots.AxesSubplot at 0x1b50b6184f0>"
      ]
     },
     "execution_count": 18,
     "metadata": {},
     "output_type": "execute_result"
    },
    {
     "data": {
      "image/png": "[encoded data removed]",
      "text/plain": [
       "<Figure size 432x288 with 1 Axes>"
      ]
     },
     "metadata": {
      "needs_background": "light"
     },
     "output_type": "display_data"
    }
   ],
   "source": [
    "test_df['margin'] = test_df['return']*test_df['action']\n",
    "test_df.plot(y='margin')\n"
   ]
  },
  {
   "cell_type": "code",
   "execution_count": 19,
   "metadata": {
    "ExecuteTime": {
     "end_time": "2020-12-07T15:24:47.136408Z",
     "start_time": "2020-12-07T15:24:46.979826Z"
    }
   },
   "outputs": [
    {
     "data": {
      "text/plain": [
       "<matplotlib.axes._subplots.AxesSubplot at 0x1b50b396be0>"
      ]
     },
     "execution_count": 19,
     "metadata": {},
     "output_type": "execute_result"
    },
    {
     "data": {
      "image/png": "[encoded data removed]",
      "text/plain": [
       "<Figure size 432x288 with 1 Axes>"
      ]
     },
     "metadata": {
      "needs_background": "light"
     },
     "output_type": "display_data"
    }
   ],
   "source": [
    "result = test_df[['return', 'margin']]\n",
    "result = result / test_df['close'].values[0]\n",
    "\n",
    "\n",
    "result.cumsum().plot()"
   ]
  },
  {
   "cell_type": "code",
   "execution_count": 20,
   "metadata": {
    "ExecuteTime": {
     "end_time": "2020-12-07T15:24:50.419595Z",
     "start_time": "2020-12-07T15:24:50.269998Z"
    }
   },
   "outputs": [
    {
     "data": {
      "text/plain": [
       "<matplotlib.axes._subplots.AxesSubplot at 0x1b50b40fc10>"
      ]
     },
     "execution_count": 20,
     "metadata": {},
     "output_type": "execute_result"
    },
    {
     "data": {
      "image/png": "[encoded data removed]",
      "text/plain": [
       "<Figure size 432x288 with 1 Axes>"
      ]
     },
     "metadata": {
      "needs_background": "light"
     },
     "output_type": "display_data"
    }
   ],
   "source": [
    "result.resample('M', kind='period').sum().plot(kind='bar')"
   ]
  },
  {
   "cell_type": "code",
   "execution_count": null,
   "metadata": {},
   "outputs": [],
   "source": []
  }
 ],
 "metadata": {
  "kernelspec": {
   "display_name": "Python 3",
   "language": "python",
   "name": "python3"
  },
  "language_info": {
   "codemirror_mode": {
    "name": "ipython",
    "version": 3
   },
   "file_extension": ".py",
   "mimetype": "text/x-python",
   "name": "python",
   "nbconvert_exporter": "python",
   "pygments_lexer": "ipython3",
   "version": "3.8.3"
  }
 },
 "nbformat": 4,
 "nbformat_minor": 4
}
